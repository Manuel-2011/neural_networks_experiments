{
  "cells": [
    {
      "cell_type": "markdown",
      "metadata": {
        "id": "JnGHatCI51JP"
      },
      "source": [
        "# micrograd exercises\n",
        "\n",
        "1. watch the [micrograd video](https://www.youtube.com/watch?v=VMj-3S1tku0) on YouTube\n",
        "2. come back and complete these exercises to level up :)"
      ]
    },
    {
      "cell_type": "markdown",
      "metadata": {
        "id": "OFt6NKOz6iBZ"
      },
      "source": [
        "## section 1: derivatives"
      ]
    },
    {
      "cell_type": "code",
      "execution_count": 6,
      "metadata": {
        "id": "3Jx9fCXl5xHd"
      },
      "outputs": [
        {
          "name": "stdout",
          "output_type": "stream",
          "text": [
            "6.336362190988558\n"
          ]
        }
      ],
      "source": [
        "# here is a mathematical expression that takes 3 inputs and produces one output\n",
        "from math import sin, cos\n",
        "\n",
        "def f(a, b, c):\n",
        "  return -a**3 + sin(3*b) - 1.0/c + b**2.5 - a**0.5\n",
        "\n",
        "print(f(2, 3, 4))"
      ]
    },
    {
      "cell_type": "code",
      "execution_count": 7,
      "metadata": {
        "id": "qXaH59eL9zxf"
      },
      "outputs": [
        {
          "name": "stdout",
          "output_type": "stream",
          "text": [
            "OK for dim 0: expected -12.353553390593273, yours returns -12.353553390593273\n",
            "OK for dim 1: expected 10.25699027111255, yours returns 10.25699027111255\n",
            "OK for dim 2: expected 0.0625, yours returns 0.0625\n"
          ]
        }
      ],
      "source": [
        "# write the function df that returns the analytical gradient of f\n",
        "# i.e. use your skills from calculus to take the derivative, then implement the formula\n",
        "# if you do not calculus then feel free to ask wolframalpha, e.g.:\n",
        "# https://www.wolframalpha.com/input?i=d%2Fda%28sin%283*a%29%29%29\n",
        "\n",
        "def gradf(a, b, c):\n",
        "  return [-3*a**2-0.5*a**(-0.5), 3*cos(3*b)+2.5*b**1.5, 1/c**2] # todo, return [df/da, df/db, df/dc]\n",
        "\n",
        "# expected answer is the list of\n",
        "ans = [-12.353553390593273, 10.25699027111255, 0.0625]\n",
        "yours = gradf(2, 3, 4)\n",
        "for dim in range(3):\n",
        "  ok = 'OK' if abs(yours[dim] - ans[dim]) < 1e-5 else 'WRONG!'\n",
        "  print(f\"{ok} for dim {dim}: expected {ans[dim]}, yours returns {yours[dim]}\")\n"
      ]
    },
    {
      "cell_type": "code",
      "execution_count": 8,
      "metadata": {
        "id": "_27n-KTA9Qla"
      },
      "outputs": [
        {
          "name": "stdout",
          "output_type": "stream",
          "text": [
            "OK for dim 0: expected -12.353553390593273, yours returns -12.35355817641448\n",
            "OK for dim 1: expected 10.25699027111255, yours returns 10.256986371359744\n",
            "OK for dim 2: expected 0.0625, yours returns 0.06250111539429781\n"
          ]
        }
      ],
      "source": [
        "# now estimate the gradient numerically without any calculus, using\n",
        "# the approximation we used in the video.\n",
        "# you should not call the function df from the last cell\n",
        "\n",
        "# -----------\n",
        "diff = 1e-10\n",
        "numerical_grad = [(f(2+diff,3,4)-f(2,3,4))/diff, (f(2,3+diff,4)-f(2,3,4))/diff, (f(2,3,4+diff)-f(2,3,4))/diff] # TODO\n",
        "# -----------\n",
        "\n",
        "for dim in range(3):\n",
        "  ok = 'OK' if abs(numerical_grad[dim] - ans[dim]) < 1e-5 else 'WRONG!'\n",
        "  print(f\"{ok} for dim {dim}: expected {ans[dim]}, yours returns {numerical_grad[dim]}\")\n"
      ]
    },
    {
      "cell_type": "code",
      "execution_count": 9,
      "metadata": {
        "id": "BUqsGb5o_h2P"
      },
      "outputs": [
        {
          "name": "stdout",
          "output_type": "stream",
          "text": [
            "OK for dim 0: expected -12.353553390593273, yours returns -12.353553735522382\n",
            "OK for dim 1: expected 10.25699027111255, yours returns 10.256990812251843\n",
            "OK for dim 2: expected 0.0625, yours returns 0.06250111539429781\n"
          ]
        }
      ],
      "source": [
        "# there is an alternative formula that provides a much better numerical\n",
        "# approximation to the derivative of a function.\n",
        "# learn about it here: https://en.wikipedia.org/wiki/Symmetric_derivative\n",
        "# implement it. confirm that for the same step size h this version gives a\n",
        "# better approximation.\n",
        "\n",
        "# -----------\n",
        "numerical_grad2 = [(f(2+diff,3,4)-f(2-diff,3,4))/(2*diff), (f(2,3+diff,4)-f(2,3-diff,4))/(2*diff), (f(2,3,4+diff)-f(2,3,4-diff))/(2*diff)] # TODO\n",
        "# -----------\n",
        "\n",
        "for dim in range(3):\n",
        "  ok = 'OK' if abs(numerical_grad2[dim] - ans[dim]) < 1e-5 else 'WRONG!'\n",
        "  print(f\"{ok} for dim {dim}: expected {ans[dim]}, yours returns {numerical_grad2[dim]}\")\n"
      ]
    },
    {
      "cell_type": "markdown",
      "metadata": {
        "id": "tklF9s_4AtlI"
      },
      "source": [
        "## section 2: support for softmax"
      ]
    },
    {
      "cell_type": "code",
      "execution_count": 10,
      "metadata": {
        "id": "nAPe_RVrCTeO"
      },
      "outputs": [],
      "source": [
        "# Value class starter code, with many functions taken out\n",
        "from math import exp, log\n",
        "\n",
        "class Value:\n",
        "\n",
        "  def __init__(self, data, _children=(), _op='', label=''):\n",
        "    self.data = data\n",
        "    self.grad = 0.0\n",
        "    self._backward = lambda: None\n",
        "    self._prev = set(_children)\n",
        "    self._op = _op\n",
        "    self.label = label\n",
        "\n",
        "  def __repr__(self):\n",
        "    return f\"Value(data={self.data})\"\n",
        "\n",
        "  def __add__(self, other): # exactly as in the video\n",
        "    other = other if isinstance(other, Value) else Value(other)\n",
        "    out = Value(self.data + other.data, (self, other), '+')\n",
        "\n",
        "    def _backward():\n",
        "      self.grad += 1.0 * out.grad\n",
        "      other.grad += 1.0 * out.grad\n",
        "    out._backward = _backward\n",
        "\n",
        "    return out\n",
        "\n",
        "  # ------\n",
        "  # re-implement all the other functions needed for the exercises below\n",
        "  # your code here\n",
        "  def __radd__(self, other):\n",
        "    return self + other\n",
        "  \n",
        "  def exp(self):\n",
        "    out = Value(exp(self.data), (self,), 'exp')\n",
        "\n",
        "    def _backward():\n",
        "      self.grad += out.data * out.grad\n",
        "    out._backward = _backward\n",
        "\n",
        "    return out\n",
        "  \n",
        "  def __mul__(self, other):\n",
        "    other = other if isinstance(other, Value) else Value(other)\n",
        "    out = Value(self.data * other.data, (self, other), '*')\n",
        "\n",
        "    def _backward():\n",
        "      self.grad += other.data * out.grad\n",
        "      other.grad += self.data * out.grad\n",
        "      print(self, self.grad)\n",
        "    out._backward = _backward\n",
        "\n",
        "    return out\n",
        "\n",
        "  def __rmul__(self, other):\n",
        "    return self * other\n",
        "  \n",
        "  def __truediv__(self, other):\n",
        "    other = other if isinstance(other, Value) else Value(other)\n",
        "    out = Value(self.data / other.data, (self, other), '/')\n",
        "\n",
        "    def _backward():\n",
        "      self.grad += (1 / other.data) * out.grad\n",
        "      other.grad += -1 * (self.data / other.data**2) * out.grad\n",
        "    out._backward = _backward\n",
        "\n",
        "    return out\n",
        "  \n",
        "  def __neg__(self):\n",
        "    return self * -1\n",
        "  \n",
        "  def __sub__(self, other):\n",
        "    return self + (-other)\n",
        "  \n",
        "  def __rsub__(self, other):\n",
        "    return other + (-self)\n",
        "  \n",
        "  def log(self):\n",
        "    out = Value(log(self.data), (self,), 'log')\n",
        "\n",
        "    def _backward():\n",
        "      self.grad += (1 / self.data) * out.grad\n",
        "      print(self, (1 / self.data))\n",
        "    out._backward = _backward\n",
        "\n",
        "    return out\n",
        "  \n",
        "  def __radd__(self, other):\n",
        "    return self + other\n",
        "\n",
        "  def backward(self): # exactly as in video\n",
        "    topo = []\n",
        "    visited = set()\n",
        "    def build_topo(v):\n",
        "      if v not in visited:\n",
        "        visited.add(v)\n",
        "        for child in v._prev:\n",
        "          build_topo(child)\n",
        "        topo.append(v)\n",
        "    build_topo(self)\n",
        "\n",
        "    self.grad = 1.0\n",
        "    for node in reversed(topo):\n",
        "      node._backward()"
      ]
    },
    {
      "cell_type": "code",
      "execution_count": 11,
      "metadata": {
        "id": "VgWvwVQNAvnI"
      },
      "outputs": [
        {
          "name": "stdout",
          "output_type": "stream",
          "text": [
            "[Value(data=0.04177257051535045), Value(data=0.839024507462532), Value(data=0.005653302662216329), Value(data=0.11354961935990121)]\n",
            "2.1755153626167147\n",
            "Value(data=-2.1755153626167147) -1.0\n",
            "Value(data=0.11354961935990121) 8.806722608469958\n",
            "OK for dim 0: expected 0.041772570515350445, yours returns 0.041772570515350445\n",
            "OK for dim 1: expected 0.8390245074625319, yours returns 0.8390245074625319\n",
            "OK for dim 2: expected 0.005653302662216329, yours returns 0.005653302662216329\n",
            "OK for dim 3: expected -0.8864503806400986, yours returns -0.886450380640099\n"
          ]
        }
      ],
      "source": [
        "# without referencing our code/video __too__ much, make this cell work\n",
        "# you'll have to implement (in some cases re-implemented) a number of functions\n",
        "# of the Value object, similar to what we've seen in the video.\n",
        "# instead of the squared error loss this implements the negative log likelihood\n",
        "# loss, which is very often used in classification.\n",
        "\n",
        "# this is the softmax function\n",
        "# https://en.wikipedia.org/wiki/Softmax_function\n",
        "def softmax(logits):\n",
        "  counts = [logit.exp() for logit in logits]\n",
        "  denominator = sum(counts)\n",
        "  out = [c / denominator for c in counts]\n",
        "  return out\n",
        "\n",
        "# this is the negative log likelihood loss function, pervasive in classification\n",
        "logits = [Value(0.0), Value(3.0), Value(-2.0), Value(1.0)]\n",
        "probs = softmax(logits)\n",
        "print(probs)\n",
        "loss = -probs[3].log() # dim 3 acts as the label for this input example\n",
        "print(loss.data)\n",
        "loss.backward()\n",
        "\n",
        "ans = [0.041772570515350445, 0.8390245074625319, 0.005653302662216329, -0.8864503806400986]\n",
        "for dim in range(4):\n",
        "  ok = 'OK' if abs(logits[dim].grad - ans[dim]) < 1e-5 else 'WRONG!'\n",
        "  print(f\"{ok} for dim {dim}: expected {ans[dim]}, yours returns {logits[dim].grad}\")\n"
      ]
    },
    {
      "cell_type": "code",
      "execution_count": 13,
      "metadata": {
        "id": "q7ca1SVAGG1S"
      },
      "outputs": [
        {
          "name": "stdout",
          "output_type": "stream",
          "text": [
            "[tensor(0.0418, grad_fn=<DivBackward0>), tensor(0.8390, grad_fn=<DivBackward0>), tensor(0.0057, grad_fn=<DivBackward0>), tensor(0.1135, grad_fn=<DivBackward0>)]\n",
            "tensor(2.1755)\n",
            "OK for dim 0: expected 0.041772570515350445, yours returns 0.041772566735744476\n",
            "OK for dim 1: expected 0.8390245074625319, yours returns 0.8390244245529175\n",
            "OK for dim 2: expected 0.005653302662216329, yours returns 0.005653302185237408\n",
            "OK for dim 3: expected -0.8864503806400986, yours returns -0.8864503502845764\n"
          ]
        }
      ],
      "source": [
        "# verify the gradient using the torch library\n",
        "# torch should give you the exact same gradient\n",
        "import torch\n",
        "\n",
        "logits = [torch.tensor(0.0, requires_grad=True), torch.tensor(3.0, requires_grad=True), torch.tensor(-2.0, requires_grad=True), torch.tensor(1.0, requires_grad=True)]\n",
        "probs = softmax(logits)\n",
        "print(probs)\n",
        "loss = -probs[3].log() # dim 3 acts as the label for this input example\n",
        "print(loss.data)\n",
        "loss.backward()\n",
        "\n",
        "for dim in range(4):\n",
        "  ok = 'OK' if abs(logits[dim].grad - ans[dim]) < 1e-5 else 'WRONG!'\n",
        "  print(f\"{ok} for dim {dim}: expected {ans[dim]}, yours returns {logits[dim].grad}\")"
      ]
    },
    {
      "cell_type": "markdown",
      "metadata": {},
      "source": [
        "Create an implementation of the backpropagation algorithm an a way to train a linear regression model using the following data:"
      ]
    },
    {
      "cell_type": "code",
      "execution_count": 118,
      "metadata": {},
      "outputs": [
        {
          "data": {
            "text/plain": [
              "<matplotlib.collections.PathCollection at 0x7f4dc395d7b0>"
            ]
          },
          "execution_count": 118,
          "metadata": {},
          "output_type": "execute_result"
        },
        {
          "data": {
            "image/png": "[encoded data removed]",
            "text/plain": [
              "<Figure size 640x480 with 1 Axes>"
            ]
          },
          "metadata": {},
          "output_type": "display_data"
        }
      ],
      "source": [
        "import math, random\n",
        "import matplotlib.pyplot as plt\n",
        "import numpy as np\n",
        "\n",
        "def y_fn(x):\n",
        "    return 15 + 2*x + random.random()*50\n",
        "\n",
        "X = [random.randrange(0, 100) for _ in range(50)]\n",
        "y = [y_fn(x) for x in X]\n",
        "\n",
        "X = np.array(X)\n",
        "y = np.array(y)\n",
        "X = X / X.std()\n",
        "y = y / y.std()\n",
        "\n",
        "plt.scatter(X, y)"
      ]
    },
    {
      "cell_type": "markdown",
      "metadata": {},
      "source": [
        "Create an object capable of keeping and calculating the gradient, and implement the backpropagation algorithm as a method. Create a linear regression model with only tow parameters (y=m*x+b), and use the Mean Squared Error as the loss function. Moreover, you must create a train function to update the parameters of the model."
      ]
    },
    {
      "cell_type": "code",
      "execution_count": 120,
      "metadata": {},
      "outputs": [
        {
          "name": "stdout",
          "output_type": "stream",
          "text": [
            "0.9485482320662991\n"
          ]
        },
        {
          "data": {
            "text/plain": [
              "(array([0.97393441]), 0.6205889935008362)"
            ]
          },
          "execution_count": 120,
          "metadata": {},
          "output_type": "execute_result"
        }
      ],
      "source": [
        "from sklearn.linear_model import LinearRegression\n",
        "\n",
        "reg = LinearRegression().fit(X.reshape(-1,1), y)\n",
        "print(reg.score(X.reshape(-1,1), y))\n",
        "reg.coef_, reg.intercept_"
      ]
    },
    {
      "cell_type": "code",
      "execution_count": 121,
      "metadata": {},
      "outputs": [],
      "source": [
        "class GradVal():\n",
        "    def __init__(self, data, children = tuple(), _op = ''):\n",
        "        self.data = data\n",
        "        self.children = children\n",
        "        self._op = _op\n",
        "        self.grad = 0\n",
        "        self._backward = lambda: None\n",
        "\n",
        "    def __mul__(self, other):\n",
        "        try:\n",
        "            other = other if isinstance(other, GradVal) else GradVal(other)\n",
        "            out = GradVal(self.data * other.data, (self, other), '*')\n",
        "        except Exception as e:\n",
        "            print(f'Error multiplying {self, other}')\n",
        "            raise e\n",
        "\n",
        "        def _backward():\n",
        "            self.grad += other.data * out.grad\n",
        "            other.grad += self.grad * out.grad\n",
        "        out._backward = _backward\n",
        "        return out\n",
        "    \n",
        "    def __add__(self, other):\n",
        "        other = other if isinstance(other, GradVal) else GradVal(other)\n",
        "        out = GradVal(self.data + other.data, (self, other), '+')\n",
        "\n",
        "        def _backward():\n",
        "            self.grad += out.grad\n",
        "            other.grad += out.grad\n",
        "        out._backward = _backward\n",
        "        return out\n",
        "    \n",
        "    def __radd__(self, other):\n",
        "        return self + other\n",
        "    \n",
        "    def __sub__(self, other):\n",
        "        return self + -1 * other\n",
        "    \n",
        "    def backward(self):\n",
        "        self._backward()\n",
        "        for child in self.children:\n",
        "            child.backward()\n",
        "    \n",
        "    def backpropagation(self):\n",
        "        self.grad = 1.0\n",
        "        self.backward()\n",
        "\n",
        "    def __repr__(self) -> str:\n",
        "        return f'GradVal({self.data:.5f})'\n",
        "\n",
        "\n",
        "class Model():\n",
        "    def __init__(self):\n",
        "        self.parameters = [GradVal(random.random()), GradVal(random.random())]\n",
        "    \n",
        "    def __call__(self, x):\n",
        "        return self.parameters[0]*x + self.parameters[1]\n"
      ]
    },
    {
      "cell_type": "code",
      "execution_count": 122,
      "metadata": {},
      "outputs": [],
      "source": [
        "def MSE(y_preds, y_reals):\n",
        "    return sum([(y_preds[i] - y_reals[i]) * (y_preds[i] - y_reals[i]) for i in range(len(y_preds))]) * (1/len(y_preds))\n",
        "\n",
        "def train(loss_fn, model, X, y, lr=1e-1, epochs = 10):\n",
        "    for e in range(epochs):\n",
        "        print(f'Epoch {e+1}')\n",
        "       \n",
        "        loss = loss_fn([model(x) for x in X], y)\n",
        "        print(f'loss:', loss)\n",
        "        loss.backpropagation()\n",
        "\n",
        "        for p in model.parameters:\n",
        "            p.data -= lr * p.grad\n",
        "            p.grad = 0.0\n",
        "        print(model.parameters)\n",
        "        print([p.grad for p in model.parameters])"
      ]
    },
    {
      "cell_type": "code",
      "execution_count": 123,
      "metadata": {},
      "outputs": [
        {
          "data": {
            "text/plain": [
              "[GradVal(0.86538), GradVal(0.41385)]"
            ]
          },
          "execution_count": 123,
          "metadata": {},
          "output_type": "execute_result"
        }
      ],
      "source": [
        "model = Model()\n",
        "model.parameters"
      ]
    },
    {
      "cell_type": "code",
      "execution_count": 124,
      "metadata": {},
      "outputs": [
        {
          "name": "stdout",
          "output_type": "stream",
          "text": [
            "Epoch 1\n",
            "loss: GradVal(0.23261)\n",
            "[GradVal(1.13267), GradVal(0.49699)]\n",
            "[0.0, 0.0]\n",
            "Epoch 2\n",
            "loss: GradVal(0.10758)\n",
            "[GradVal(0.98451), GradVal(0.46146)]\n",
            "[0.0, 0.0]\n",
            "Epoch 3\n",
            "loss: GradVal(0.07093)\n",
            "[GradVal(1.06062), GradVal(0.48957)]\n",
            "[0.0, 0.0]\n",
            "Epoch 4\n",
            "loss: GradVal(0.06002)\n",
            "[GradVal(1.01590), GradVal(0.48300)]\n",
            "[0.0, 0.0]\n",
            "Epoch 5\n",
            "loss: GradVal(0.05662)\n",
            "[GradVal(1.03651), GradVal(0.49480)]\n",
            "[0.0, 0.0]\n",
            "Epoch 6\n",
            "loss: GradVal(0.05543)\n",
            "[GradVal(1.02202), GradVal(0.49636)]\n",
            "[0.0, 0.0]\n",
            "Epoch 7\n",
            "loss: GradVal(0.05489)\n",
            "[GradVal(1.02659), GradVal(0.50313)]\n",
            "[0.0, 0.0]\n",
            "Epoch 8\n",
            "loss: GradVal(0.05455)\n",
            "[GradVal(1.02101), GradVal(0.50679)]\n",
            "[0.0, 0.0]\n",
            "Epoch 9\n",
            "loss: GradVal(0.05429)\n",
            "[GradVal(1.02103), GradVal(0.51183)]\n",
            "[0.0, 0.0]\n",
            "Epoch 10\n",
            "loss: GradVal(0.05407)\n",
            "[GradVal(1.01815), GradVal(0.51585)]\n",
            "[0.0, 0.0]\n",
            "Epoch 11\n",
            "loss: GradVal(0.05386)\n",
            "[GradVal(1.01694), GradVal(0.52016)]\n",
            "[0.0, 0.0]\n",
            "Epoch 12\n",
            "loss: GradVal(0.05367)\n",
            "[GradVal(1.01494), GradVal(0.52406)]\n",
            "[0.0, 0.0]\n",
            "Epoch 13\n",
            "loss: GradVal(0.05350)\n",
            "[GradVal(1.01348), GradVal(0.52793)]\n",
            "[0.0, 0.0]\n",
            "Epoch 14\n",
            "loss: GradVal(0.05334)\n",
            "[GradVal(1.01182), GradVal(0.53157)]\n",
            "[0.0, 0.0]\n",
            "Epoch 15\n",
            "loss: GradVal(0.05319)\n",
            "[GradVal(1.01037), GradVal(0.53511)]\n",
            "[0.0, 0.0]\n",
            "Epoch 16\n",
            "loss: GradVal(0.05306)\n",
            "[GradVal(1.00890), GradVal(0.53849)]\n",
            "[0.0, 0.0]\n",
            "Epoch 17\n",
            "loss: GradVal(0.05293)\n",
            "[GradVal(1.00753), GradVal(0.54175)]\n",
            "[0.0, 0.0]\n",
            "Epoch 18\n",
            "loss: GradVal(0.05282)\n",
            "[GradVal(1.00619), GradVal(0.54487)]\n",
            "[0.0, 0.0]\n",
            "Epoch 19\n",
            "loss: GradVal(0.05271)\n",
            "[GradVal(1.00491), GradVal(0.54787)]\n",
            "[0.0, 0.0]\n",
            "Epoch 20\n",
            "loss: GradVal(0.05261)\n",
            "[GradVal(1.00369), GradVal(0.55076)]\n",
            "[0.0, 0.0]\n",
            "Epoch 21\n",
            "loss: GradVal(0.05252)\n",
            "[GradVal(1.00251), GradVal(0.55352)]\n",
            "[0.0, 0.0]\n",
            "Epoch 22\n",
            "loss: GradVal(0.05244)\n",
            "[GradVal(1.00137), GradVal(0.55618)]\n",
            "[0.0, 0.0]\n",
            "Epoch 23\n",
            "loss: GradVal(0.05236)\n",
            "[GradVal(1.00029), GradVal(0.55873)]\n",
            "[0.0, 0.0]\n",
            "Epoch 24\n",
            "loss: GradVal(0.05229)\n",
            "[GradVal(0.99924), GradVal(0.56118)]\n",
            "[0.0, 0.0]\n",
            "Epoch 25\n",
            "loss: GradVal(0.05223)\n",
            "[GradVal(0.99824), GradVal(0.56354)]\n",
            "[0.0, 0.0]\n",
            "Epoch 26\n",
            "loss: GradVal(0.05217)\n",
            "[GradVal(0.99728), GradVal(0.56580)]\n",
            "[0.0, 0.0]\n",
            "Epoch 27\n",
            "loss: GradVal(0.05211)\n",
            "[GradVal(0.99635), GradVal(0.56797)]\n",
            "[0.0, 0.0]\n",
            "Epoch 28\n",
            "loss: GradVal(0.05206)\n",
            "[GradVal(0.99546), GradVal(0.57006)]\n",
            "[0.0, 0.0]\n",
            "Epoch 29\n",
            "loss: GradVal(0.05201)\n",
            "[GradVal(0.99461), GradVal(0.57206)]\n",
            "[0.0, 0.0]\n",
            "Epoch 30\n",
            "loss: GradVal(0.05197)\n",
            "[GradVal(0.99379), GradVal(0.57398)]\n",
            "[0.0, 0.0]\n",
            "Epoch 31\n",
            "loss: GradVal(0.05193)\n",
            "[GradVal(0.99300), GradVal(0.57583)]\n",
            "[0.0, 0.0]\n",
            "Epoch 32\n",
            "loss: GradVal(0.05189)\n",
            "[GradVal(0.99225), GradVal(0.57760)]\n",
            "[0.0, 0.0]\n",
            "Epoch 33\n",
            "loss: GradVal(0.05186)\n",
            "[GradVal(0.99152), GradVal(0.57931)]\n",
            "[0.0, 0.0]\n",
            "Epoch 34\n",
            "loss: GradVal(0.05183)\n",
            "[GradVal(0.99083), GradVal(0.58094)]\n",
            "[0.0, 0.0]\n",
            "Epoch 35\n",
            "loss: GradVal(0.05180)\n",
            "[GradVal(0.99016), GradVal(0.58251)]\n",
            "[0.0, 0.0]\n",
            "Epoch 36\n",
            "loss: GradVal(0.05177)\n",
            "[GradVal(0.98951), GradVal(0.58402)]\n",
            "[0.0, 0.0]\n",
            "Epoch 37\n",
            "loss: GradVal(0.05175)\n",
            "[GradVal(0.98890), GradVal(0.58547)]\n",
            "[0.0, 0.0]\n",
            "Epoch 38\n",
            "loss: GradVal(0.05172)\n",
            "[GradVal(0.98830), GradVal(0.58686)]\n",
            "[0.0, 0.0]\n",
            "Epoch 39\n",
            "loss: GradVal(0.05170)\n",
            "[GradVal(0.98773), GradVal(0.58820)]\n",
            "[0.0, 0.0]\n",
            "Epoch 40\n",
            "loss: GradVal(0.05168)\n",
            "[GradVal(0.98719), GradVal(0.58948)]\n",
            "[0.0, 0.0]\n",
            "Epoch 41\n",
            "loss: GradVal(0.05166)\n",
            "[GradVal(0.98666), GradVal(0.59071)]\n",
            "[0.0, 0.0]\n",
            "Epoch 42\n",
            "loss: GradVal(0.05165)\n",
            "[GradVal(0.98616), GradVal(0.59190)]\n",
            "[0.0, 0.0]\n",
            "Epoch 43\n",
            "loss: GradVal(0.05163)\n",
            "[GradVal(0.98567), GradVal(0.59304)]\n",
            "[0.0, 0.0]\n",
            "Epoch 44\n",
            "loss: GradVal(0.05162)\n",
            "[GradVal(0.98521), GradVal(0.59413)]\n",
            "[0.0, 0.0]\n",
            "Epoch 45\n",
            "loss: GradVal(0.05161)\n",
            "[GradVal(0.98476), GradVal(0.59518)]\n",
            "[0.0, 0.0]\n",
            "Epoch 46\n",
            "loss: GradVal(0.05159)\n",
            "[GradVal(0.98433), GradVal(0.59618)]\n",
            "[0.0, 0.0]\n",
            "Epoch 47\n",
            "loss: GradVal(0.05158)\n",
            "[GradVal(0.98392), GradVal(0.59715)]\n",
            "[0.0, 0.0]\n",
            "Epoch 48\n",
            "loss: GradVal(0.05157)\n",
            "[GradVal(0.98352), GradVal(0.59808)]\n",
            "[0.0, 0.0]\n",
            "Epoch 49\n",
            "loss: GradVal(0.05156)\n",
            "[GradVal(0.98314), GradVal(0.59897)]\n",
            "[0.0, 0.0]\n",
            "Epoch 50\n",
            "loss: GradVal(0.05155)\n",
            "[GradVal(0.98278), GradVal(0.59983)]\n",
            "[0.0, 0.0]\n",
            "Epoch 51\n",
            "loss: GradVal(0.05155)\n",
            "[GradVal(0.98243), GradVal(0.60065)]\n",
            "[0.0, 0.0]\n",
            "Epoch 52\n",
            "loss: GradVal(0.05154)\n",
            "[GradVal(0.98209), GradVal(0.60144)]\n",
            "[0.0, 0.0]\n",
            "Epoch 53\n",
            "loss: GradVal(0.05153)\n",
            "[GradVal(0.98177), GradVal(0.60220)]\n",
            "[0.0, 0.0]\n",
            "Epoch 54\n",
            "loss: GradVal(0.05153)\n",
            "[GradVal(0.98146), GradVal(0.60293)]\n",
            "[0.0, 0.0]\n",
            "Epoch 55\n",
            "loss: GradVal(0.05152)\n",
            "[GradVal(0.98116), GradVal(0.60363)]\n",
            "[0.0, 0.0]\n",
            "Epoch 56\n",
            "loss: GradVal(0.05152)\n",
            "[GradVal(0.98087), GradVal(0.60430)]\n",
            "[0.0, 0.0]\n",
            "Epoch 57\n",
            "loss: GradVal(0.05151)\n",
            "[GradVal(0.98060), GradVal(0.60495)]\n",
            "[0.0, 0.0]\n",
            "Epoch 58\n",
            "loss: GradVal(0.05151)\n",
            "[GradVal(0.98034), GradVal(0.60557)]\n",
            "[0.0, 0.0]\n",
            "Epoch 59\n",
            "loss: GradVal(0.05150)\n",
            "[GradVal(0.98008), GradVal(0.60616)]\n",
            "[0.0, 0.0]\n",
            "Epoch 60\n",
            "loss: GradVal(0.05150)\n",
            "[GradVal(0.97984), GradVal(0.60673)]\n",
            "[0.0, 0.0]\n",
            "Epoch 61\n",
            "loss: GradVal(0.05149)\n",
            "[GradVal(0.97960), GradVal(0.60728)]\n",
            "[0.0, 0.0]\n",
            "Epoch 62\n",
            "loss: GradVal(0.05149)\n",
            "[GradVal(0.97938), GradVal(0.60781)]\n",
            "[0.0, 0.0]\n",
            "Epoch 63\n",
            "loss: GradVal(0.05149)\n",
            "[GradVal(0.97916), GradVal(0.60832)]\n",
            "[0.0, 0.0]\n",
            "Epoch 64\n",
            "loss: GradVal(0.05148)\n",
            "[GradVal(0.97896), GradVal(0.60880)]\n",
            "[0.0, 0.0]\n",
            "Epoch 65\n",
            "loss: GradVal(0.05148)\n",
            "[GradVal(0.97876), GradVal(0.60927)]\n",
            "[0.0, 0.0]\n",
            "Epoch 66\n",
            "loss: GradVal(0.05148)\n",
            "[GradVal(0.97857), GradVal(0.60972)]\n",
            "[0.0, 0.0]\n",
            "Epoch 67\n",
            "loss: GradVal(0.05148)\n",
            "[GradVal(0.97838), GradVal(0.61015)]\n",
            "[0.0, 0.0]\n",
            "Epoch 68\n",
            "loss: GradVal(0.05148)\n",
            "[GradVal(0.97821), GradVal(0.61056)]\n",
            "[0.0, 0.0]\n",
            "Epoch 69\n",
            "loss: GradVal(0.05147)\n",
            "[GradVal(0.97804), GradVal(0.61096)]\n",
            "[0.0, 0.0]\n",
            "Epoch 70\n",
            "loss: GradVal(0.05147)\n",
            "[GradVal(0.97787), GradVal(0.61134)]\n",
            "[0.0, 0.0]\n",
            "Epoch 71\n",
            "loss: GradVal(0.05147)\n",
            "[GradVal(0.97772), GradVal(0.61171)]\n",
            "[0.0, 0.0]\n",
            "Epoch 72\n",
            "loss: GradVal(0.05147)\n",
            "[GradVal(0.97757), GradVal(0.61206)]\n",
            "[0.0, 0.0]\n",
            "Epoch 73\n",
            "loss: GradVal(0.05147)\n",
            "[GradVal(0.97742), GradVal(0.61240)]\n",
            "[0.0, 0.0]\n",
            "Epoch 74\n",
            "loss: GradVal(0.05147)\n",
            "[GradVal(0.97729), GradVal(0.61272)]\n",
            "[0.0, 0.0]\n",
            "Epoch 75\n",
            "loss: GradVal(0.05147)\n",
            "[GradVal(0.97715), GradVal(0.61303)]\n",
            "[0.0, 0.0]\n",
            "Epoch 76\n",
            "loss: GradVal(0.05146)\n",
            "[GradVal(0.97703), GradVal(0.61333)]\n",
            "[0.0, 0.0]\n",
            "Epoch 77\n",
            "loss: GradVal(0.05146)\n",
            "[GradVal(0.97690), GradVal(0.61362)]\n",
            "[0.0, 0.0]\n",
            "Epoch 78\n",
            "loss: GradVal(0.05146)\n",
            "[GradVal(0.97679), GradVal(0.61390)]\n",
            "[0.0, 0.0]\n",
            "Epoch 79\n",
            "loss: GradVal(0.05146)\n",
            "[GradVal(0.97667), GradVal(0.61416)]\n",
            "[0.0, 0.0]\n",
            "Epoch 80\n",
            "loss: GradVal(0.05146)\n",
            "[GradVal(0.97656), GradVal(0.61442)]\n",
            "[0.0, 0.0]\n",
            "Epoch 81\n",
            "loss: GradVal(0.05146)\n",
            "[GradVal(0.97646), GradVal(0.61466)]\n",
            "[0.0, 0.0]\n",
            "Epoch 82\n",
            "loss: GradVal(0.05146)\n",
            "[GradVal(0.97636), GradVal(0.61490)]\n",
            "[0.0, 0.0]\n",
            "Epoch 83\n",
            "loss: GradVal(0.05146)\n",
            "[GradVal(0.97626), GradVal(0.61512)]\n",
            "[0.0, 0.0]\n",
            "Epoch 84\n",
            "loss: GradVal(0.05146)\n",
            "[GradVal(0.97617), GradVal(0.61534)]\n",
            "[0.0, 0.0]\n",
            "Epoch 85\n",
            "loss: GradVal(0.05146)\n",
            "[GradVal(0.97608), GradVal(0.61555)]\n",
            "[0.0, 0.0]\n",
            "Epoch 86\n",
            "loss: GradVal(0.05146)\n",
            "[GradVal(0.97600), GradVal(0.61575)]\n",
            "[0.0, 0.0]\n",
            "Epoch 87\n",
            "loss: GradVal(0.05146)\n",
            "[GradVal(0.97592), GradVal(0.61594)]\n",
            "[0.0, 0.0]\n",
            "Epoch 88\n",
            "loss: GradVal(0.05146)\n",
            "[GradVal(0.97584), GradVal(0.61612)]\n",
            "[0.0, 0.0]\n",
            "Epoch 89\n",
            "loss: GradVal(0.05146)\n",
            "[GradVal(0.97576), GradVal(0.61630)]\n",
            "[0.0, 0.0]\n",
            "Epoch 90\n",
            "loss: GradVal(0.05146)\n",
            "[GradVal(0.97569), GradVal(0.61647)]\n",
            "[0.0, 0.0]\n",
            "Epoch 91\n",
            "loss: GradVal(0.05146)\n",
            "[GradVal(0.97562), GradVal(0.61663)]\n",
            "[0.0, 0.0]\n",
            "Epoch 92\n",
            "loss: GradVal(0.05146)\n",
            "[GradVal(0.97555), GradVal(0.61679)]\n",
            "[0.0, 0.0]\n",
            "Epoch 93\n",
            "loss: GradVal(0.05145)\n",
            "[GradVal(0.97549), GradVal(0.61694)]\n",
            "[0.0, 0.0]\n",
            "Epoch 94\n",
            "loss: GradVal(0.05145)\n",
            "[GradVal(0.97543), GradVal(0.61708)]\n",
            "[0.0, 0.0]\n",
            "Epoch 95\n",
            "loss: GradVal(0.05145)\n",
            "[GradVal(0.97537), GradVal(0.61722)]\n",
            "[0.0, 0.0]\n",
            "Epoch 96\n",
            "loss: GradVal(0.05145)\n",
            "[GradVal(0.97531), GradVal(0.61736)]\n",
            "[0.0, 0.0]\n",
            "Epoch 97\n",
            "loss: GradVal(0.05145)\n",
            "[GradVal(0.97526), GradVal(0.61748)]\n",
            "[0.0, 0.0]\n",
            "Epoch 98\n",
            "loss: GradVal(0.05145)\n",
            "[GradVal(0.97520), GradVal(0.61761)]\n",
            "[0.0, 0.0]\n",
            "Epoch 99\n",
            "loss: GradVal(0.05145)\n",
            "[GradVal(0.97515), GradVal(0.61773)]\n",
            "[0.0, 0.0]\n",
            "Epoch 100\n",
            "loss: GradVal(0.05145)\n",
            "[GradVal(0.97511), GradVal(0.61784)]\n",
            "[0.0, 0.0]\n"
          ]
        }
      ],
      "source": [
        "train(MSE, model, X, y, epochs=100)"
      ]
    },
    {
      "cell_type": "code",
      "execution_count": 125,
      "metadata": {},
      "outputs": [
        {
          "data": {
            "text/plain": [
              "[GradVal(0.97511), GradVal(0.61784)]"
            ]
          },
          "execution_count": 125,
          "metadata": {},
          "output_type": "execute_result"
        }
      ],
      "source": [
        "model.parameters"
      ]
    },
    {
      "cell_type": "code",
      "execution_count": 126,
      "metadata": {},
      "outputs": [
        {
          "data": {
            "text/plain": [
              "<matplotlib.collections.PathCollection at 0x7f4dc28308e0>"
            ]
          },
          "execution_count": 126,
          "metadata": {},
          "output_type": "execute_result"
        },
        {
          "data": {
            "image/png": "[encoded data removed]",
            "text/plain": [
              "<Figure size 640x480 with 1 Axes>"
            ]
          },
          "metadata": {},
          "output_type": "display_data"
        }
      ],
      "source": [
        "y_preds = [model(x) for x in X]\n",
        "\n",
        "plt.scatter(X, y)\n",
        "plt.scatter(X, [y.data for y in y_preds])"
      ]
    },
    {
      "cell_type": "code",
      "execution_count": 1,
      "metadata": {},
      "outputs": [
        {
          "data": {
            "text/plain": [
              "0.09194145093705215"
            ]
          },
          "execution_count": 1,
          "metadata": {},
          "output_type": "execute_result"
        }
      ],
      "source": [
        "import math\n",
        "p1 = 0.9\n",
        "p2= 0.8\n",
        "p3 = 0.3\n",
        "\n",
        "n = 100\n",
        "k = 20\n",
        "\n",
        "def get_p(k, n):\n",
        "    p = 0\n",
        "    for r in range(k,n+1):\n",
        "        # print('registered', r)\n",
        "        p_r = (math.comb(n,r)* p1**r * (1-p1)**(n-r))\n",
        "        for v in range(k,r+1):\n",
        "            # print('voted', v)\n",
        "            p_v = (math.comb(r,v)* p2**v * (1-p2)**(r-v))\n",
        "            \n",
        "            # print('kodos', k)\n",
        "            p_k = (math.comb(v,k)* p3**k * (1-p3)**(v-k))\n",
        "\n",
        "            p += p_r*p_v*p_k\n",
        "    return p\n",
        "\n",
        "get_p(k,n)"
      ]
    },
    {
      "cell_type": "code",
      "execution_count": 8,
      "metadata": {},
      "outputs": [
        {
          "name": "stdout",
          "output_type": "stream",
          "text": [
            "120\n"
          ]
        },
        {
          "data": {
            "text/plain": [
              "15360"
            ]
          },
          "execution_count": 8,
          "metadata": {},
          "output_type": "execute_result"
        }
      ],
      "source": [
        "n = 10\n",
        "k = 3\n",
        "print(math.comb(n,k))\n",
        "result = 0\n",
        "for i in range(k,n+1):\n",
        "    result += math.comb(n,i)*math.comb(i,k)\n",
        "result"
      ]
    },
    {
      "cell_type": "code",
      "execution_count": 13,
      "metadata": {},
      "outputs": [
        {
          "ename": "ZeroDivisionError",
          "evalue": "division by zero",
          "output_type": "error",
          "traceback": [
            "\u001b[0;31m---------------------------------------------------------------------------\u001b[0m",
            "\u001b[0;31mZeroDivisionError\u001b[0m                         Traceback (most recent call last)",
            "Cell \u001b[0;32mIn[13], line 3\u001b[0m\n\u001b[1;32m      1\u001b[0m result \u001b[38;5;241m=\u001b[39m \u001b[38;5;241m0\u001b[39m\n\u001b[1;32m      2\u001b[0m \u001b[38;5;28;01mfor\u001b[39;00m i \u001b[38;5;129;01min\u001b[39;00m \u001b[38;5;28mrange\u001b[39m(k,n\u001b[38;5;241m+\u001b[39m\u001b[38;5;241m1\u001b[39m):\n\u001b[0;32m----> 3\u001b[0m     result \u001b[38;5;241m+\u001b[39m\u001b[38;5;241m=\u001b[39m \u001b[43m(\u001b[49m\u001b[43mmath\u001b[49m\u001b[38;5;241;43m.\u001b[39;49m\u001b[43mfactorial\u001b[49m\u001b[43m(\u001b[49m\u001b[43mn\u001b[49m\u001b[38;5;241;43m-\u001b[39;49m\u001b[43mi\u001b[49m\u001b[43m)\u001b[49m\u001b[43m)\u001b[49m\u001b[38;5;241;43m/\u001b[39;49m\u001b[43m(\u001b[49m\u001b[43m(\u001b[49m\u001b[43mmath\u001b[49m\u001b[38;5;241;43m.\u001b[39;49m\u001b[43mfactorial\u001b[49m\u001b[43m(\u001b[49m\u001b[43mn\u001b[49m\u001b[38;5;241;43m-\u001b[39;49m\u001b[43mi\u001b[49m\u001b[43m)\u001b[49m\u001b[38;5;241;43m-\u001b[39;49m\u001b[38;5;241;43m1\u001b[39;49m\u001b[43m)\u001b[49m\u001b[38;5;241;43m*\u001b[39;49m\u001b[43mmath\u001b[49m\u001b[38;5;241;43m.\u001b[39;49m\u001b[43mfactorial\u001b[49m\u001b[43m(\u001b[49m\u001b[43mi\u001b[49m\u001b[38;5;241;43m-\u001b[39;49m\u001b[43mk\u001b[49m\u001b[43m)\u001b[49m\u001b[38;5;241;43m*\u001b[39;49m\u001b[43mmath\u001b[49m\u001b[38;5;241;43m.\u001b[39;49m\u001b[43mfactorial\u001b[49m\u001b[43m(\u001b[49m\u001b[43mk\u001b[49m\u001b[43m)\u001b[49m\u001b[43m)\u001b[49m\n\u001b[1;32m      4\u001b[0m     \u001b[38;5;66;03m# print(math.comb(i,k), math.factorial(i)-1)\u001b[39;00m\n\u001b[1;32m      5\u001b[0m math\u001b[38;5;241m.\u001b[39mcomb(n,k)\u001b[38;5;241m*\u001b[39mresult\n",
            "\u001b[0;31mZeroDivisionError\u001b[0m: division by zero"
          ]
        }
      ],
      "source": [
        "result = 0\n",
        "for i in range(k,n+1):\n",
        "    result += (math.factorial(n-i))/((math.factorial(n-i)-1)*math.factorial(i-k)*math.factorial(k))\n",
        "    # print(math.comb(i,k), math.factorial(i)-1)\n",
        "math.comb(n,k)*result"
      ]
    },
    {
      "cell_type": "code",
      "execution_count": 42,
      "metadata": {},
      "outputs": [
        {
          "name": "stdout",
          "output_type": "stream",
          "text": [
            "4 0.2001209489999999 0.2001209489999999\n",
            "5 0.10291934519999994 0.30304029419999984\n",
            "6 0.03675690899999999 0.33979720319999984\n",
            "7 0.009001691999999995 0.34879889519999985\n",
            "8 0.0014467004999999993 0.35024559569999986\n",
            "9 0.00013778099999999996 0.35038337669999986\n",
            "10 5.9048999999999975e-06 0.3503892815999999\n"
          ]
        },
        {
          "data": {
            "text/plain": [
              "0.3503892815999999"
            ]
          },
          "execution_count": 42,
          "metadata": {},
          "output_type": "execute_result"
        }
      ],
      "source": [
        "p1= 0.3\n",
        "result = 0\n",
        "for i in range(4, 10+1):\n",
        "    res = math.comb(10,i) * p1**i * (1-p1)**(10-i)\n",
        "    result += res\n",
        "    print(i, res, result)\n",
        "result"
      ]
    },
    {
      "cell_type": "code",
      "execution_count": 43,
      "metadata": {},
      "outputs": [
        {
          "name": "stdout",
          "output_type": "stream",
          "text": [
            "0 0.028247524899999984 0.028247524899999984\n",
            "1 0.12106082099999993 0.14930834589999992\n",
            "2 0.23347444049999988 0.3827827863999998\n",
            "3 0.2668279319999998 0.6496107183999996\n",
            "4 0.2001209489999999 0.8497316673999995\n",
            "5 0.10291934519999994 0.9526510125999994\n",
            "6 0.03675690899999999 0.9894079215999994\n",
            "7 0.009001691999999995 0.9984096135999994\n",
            "8 0.0014467004999999993 0.9998563140999993\n",
            "9 0.00013778099999999996 0.9999940950999993\n",
            "10 5.9048999999999975e-06 0.9999999999999992\n"
          ]
        },
        {
          "data": {
            "text/plain": [
              "0.9999999999999992"
            ]
          },
          "execution_count": 43,
          "metadata": {},
          "output_type": "execute_result"
        }
      ],
      "source": [
        "result = 0\n",
        "for i in range(0, 10+1):\n",
        "    res = math.comb(10,i) * p1**i * (1-p1)**(10-i)\n",
        "    result += res\n",
        "    print(i, res, result)\n",
        "result"
      ]
    },
    {
      "cell_type": "code",
      "execution_count": 25,
      "metadata": {},
      "outputs": [
        {
          "data": {
            "text/plain": [
              "1013"
            ]
          },
          "execution_count": 25,
          "metadata": {},
          "output_type": "execute_result"
        }
      ],
      "source": [
        "n= 10\n",
        "result = 0\n",
        "for k in range(2,n+1):\n",
        "    result += math.comb(n,k)\n",
        "result"
      ]
    },
    {
      "cell_type": "code",
      "execution_count": 7,
      "metadata": {},
      "outputs": [
        {
          "data": {
            "text/plain": [
              "1440"
            ]
          },
          "execution_count": 7,
          "metadata": {},
          "output_type": "execute_result"
        }
      ],
      "source": [
        "math.factorial(3)*math.factorial(2)*math.factorial(5)"
      ]
    },
    {
      "cell_type": "code",
      "execution_count": 9,
      "metadata": {},
      "outputs": [
        {
          "data": {
            "text/plain": [
              "12600.0"
            ]
          },
          "execution_count": 9,
          "metadata": {},
          "output_type": "execute_result"
        }
      ],
      "source": [
        "5*(math.factorial(10) / (math.factorial(3)*math.factorial(2)*math.factorial(5)))"
      ]
    },
    {
      "cell_type": "code",
      "execution_count": 10,
      "metadata": {},
      "outputs": [
        {
          "data": {
            "text/plain": [
              "252"
            ]
          },
          "execution_count": 10,
          "metadata": {},
          "output_type": "execute_result"
        }
      ],
      "source": [
        "math.comb(10,5)"
      ]
    },
    {
      "cell_type": "code",
      "execution_count": 17,
      "metadata": {},
      "outputs": [
        {
          "name": "stdout",
          "output_type": "stream",
          "text": [
            "252\n"
          ]
        },
        {
          "data": {
            "text/plain": [
              "61236"
            ]
          },
          "execution_count": 17,
          "metadata": {},
          "output_type": "execute_result"
        }
      ],
      "source": [
        "n = 10\n",
        "k = 5\n",
        "\n",
        "print(math.comb(n,5))\n",
        "result = 0\n",
        "for i in range(k,n+1):\n",
        "    for v in range(k, i+1):\n",
        "        result += math.comb(n,i)*math.comb(i,v)*math.comb(v,k)\n",
        "result"
      ]
    },
    {
      "cell_type": "code",
      "execution_count": 20,
      "metadata": {},
      "outputs": [
        {
          "data": {
            "text/plain": [
              "1.9934228934677878"
            ]
          },
          "execution_count": 20,
          "metadata": {},
          "output_type": "execute_result"
        }
      ],
      "source": [
        "\n",
        "math.log(61236, 252)"
      ]
    },
    {
      "cell_type": "code",
      "execution_count": null,
      "metadata": {},
      "outputs": [],
      "source": []
    }
  ],
  "metadata": {
    "colab": {
      "provenance": []
    },
    "kernelspec": {
      "display_name": "Python 3",
      "name": "python3"
    },
    "language_info": {
      "codemirror_mode": {
        "name": "ipython",
        "version": 3
      },
      "file_extension": ".py",
      "mimetype": "text/x-python",
      "name": "python",
      "nbconvert_exporter": "python",
      "pygments_lexer": "ipython3",
      "version": "3.10.12"
    }
  },
  "nbformat": 4,
  "nbformat_minor": 0
}
