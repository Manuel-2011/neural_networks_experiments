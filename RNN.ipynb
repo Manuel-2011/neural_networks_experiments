{
 "cells": [
  {
   "cell_type": "code",
   "execution_count": 1,
   "metadata": {},
   "outputs": [],
   "source": [
    "with open('shakespeare.txt') as file:\n",
    "    corpus = file.read()"
   ]
  },
  {
   "cell_type": "code",
   "execution_count": 2,
   "metadata": {},
   "outputs": [
    {
     "name": "stdout",
     "output_type": "stream",
     "text": [
      "First Citizen:\n",
      "Before we proceed any further, hear me speak.\n",
      "\n",
      "All:\n",
      "Speak, speak.\n",
      "\n",
      "First Citizen:\n",
      "You are all resolved rather to die than to famish?\n",
      "\n",
      "All:\n",
      "Resolved. resolved.\n",
      "\n",
      "First Citizen:\n",
      "First, you know Caius Marcius is chief enemy to the people.\n",
      "\n",
      "All:\n",
      "We know't, we know't.\n",
      "\n",
      "First Citizen:\n",
      "Let us kill him, and we'll have corn at our own price.\n",
      "Is't a verdict?\n",
      "\n",
      "All:\n",
      "No more talking on't; let it be done: away, away!\n",
      "\n",
      "Second Citizen:\n",
      "One word, good citizens.\n",
      "\n",
      "First Citizen:\n",
      "We are accounted poor citizens, the patricians good.\n",
      "What authority surfeits on would relieve us: if they\n",
      "would yield us but the superfluity, while it were\n",
      "wholesome, we might guess they relieved us humanely;\n",
      "but they think we are too dear: the leanness that\n",
      "afflicts us, the object of our misery, is as an\n",
      "inventory to particularise their abundance; our\n",
      "sufferance is a gain to them Let us revenge this with\n",
      "our pikes, ere we become rakes: for the gods know I\n",
      "speak this in hunger for bread, not in thirst for revenge.\n",
      "\n",
      "\n"
     ]
    }
   ],
   "source": [
    "print(corpus[:1000])"
   ]
  },
  {
   "cell_type": "code",
   "execution_count": 3,
   "metadata": {},
   "outputs": [
    {
     "data": {
      "text/plain": [
       "'!\"#$%&\\'()*+,-./:;<=>?@[\\\\]^_`{|}~'"
      ]
     },
     "execution_count": 3,
     "metadata": {},
     "output_type": "execute_result"
    }
   ],
   "source": [
    "import string\n",
    "import torch\n",
    "import numpy as np\n",
    "string.punctuation"
   ]
  },
  {
   "cell_type": "code",
   "execution_count": 4,
   "metadata": {},
   "outputs": [
    {
     "name": "stdout",
     "output_type": "stream",
     "text": [
      "['First', ' Citizen', ':', '\\n', 'Before', ' we', ' proceed', ' any', ' further', ',', ' hear', ' me', ' speak', '.', '\\n', '\\n', 'All', ':', '\\n', 'Speak', ',', ' speak', '.', '\\n', '\\n', 'First', ' Citizen', ':', '\\n', 'You', ' are', ' all', ' resolved', ' rather', ' to', ' die', ' than', ' to', ' famish', '?', '\\n', '\\n', 'All', ':', '\\n', 'Resolved', '.', ' resolved', '.', '\\n', '\\n', 'First', ' Citizen', ':', '\\n', 'First', ',', ' you', ' know', ' Caius', ' Marcius', ' is', ' chief', ' enemy', ' to', ' the', ' people', '.', '\\n', '\\n', 'All', ':', '\\n', 'We', ' know', \"'t\", ',', ' we', ' know', \"'t\", '.', '\\n', '\\n', 'First', ' Citizen', ':', '\\n', 'Let', ' us', ' kill', ' him', ',', ' and', ' we', \"'ll\", ' have', ' corn', ' at', ' our', ' own']\n"
     ]
    }
   ],
   "source": [
    "import re\n",
    "# \\w+|\\d+|\\n\\s*|\\s+|\n",
    "patt = rf\"\\n|\\s?\\w+|\\d+|\\s|'t|'ve|'ll|'s|'d|[{string.punctuation}]+\"\n",
    "\n",
    "tokenized = re.findall(patt, corpus)\n",
    "print(tokenized[:100])"
   ]
  },
  {
   "cell_type": "code",
   "execution_count": 5,
   "metadata": {},
   "outputs": [
    {
     "name": "stdout",
     "output_type": "stream",
     "text": [
      "15052\n"
     ]
    }
   ],
   "source": [
    "vocabulary = sorted(set(tokenized))\n",
    "print(len(vocabulary))\n",
    "stoi = {s:i for i,s in enumerate(vocabulary)}\n",
    "itos = {i:s for i,s in enumerate(vocabulary)}"
   ]
  },
  {
   "cell_type": "code",
   "execution_count": 6,
   "metadata": {},
   "outputs": [],
   "source": [
    "encoded_corpus = [stoi[tok] for tok in tokenized]"
   ]
  },
  {
   "cell_type": "code",
   "execution_count": 7,
   "metadata": {},
   "outputs": [],
   "source": [
    "k = int(len(encoded_corpus)*0.9)\n",
    "train_corpus = encoded_corpus[:k]\n",
    "val_corpus = encoded_corpus[k:]"
   ]
  },
  {
   "cell_type": "code",
   "execution_count": 8,
   "metadata": {},
   "outputs": [],
   "source": [
    "class DataLoader:\n",
    "    def __init__(self, corpus, block_size) -> None:\n",
    "        self.curr_pos = 0\n",
    "        self.corpus = torch.tensor(corpus)\n",
    "        self.examples_index = list(range(0, len(corpus)-block_size-1, block_size))\n",
    "        self.order = np.random.permutation(self.examples_index)\n",
    "        self.block_size = block_size\n",
    "        self.stride = 0\n",
    "\n",
    "    def get_batch(self, batch_size):\n",
    "        batch_examples = self.order[self.curr_pos:self.curr_pos+batch_size]\n",
    "        self.curr_pos += len(batch_examples)\n",
    "        \n",
    "        if len(batch_examples) < batch_size:\n",
    "            self.curr_pos = 0\n",
    "            self.stride = (self.stride + 1) % self.block_size\n",
    "            self.examples_index = list(range(self.stride, len(self.corpus)-self.block_size-1, self.block_size))\n",
    "            self.order = np.random.permutation(self.examples_index)\n",
    "            if  len(batch_examples) == 0:\n",
    "                batch_examples = self.order[self.curr_pos:self.curr_pos+batch_size]\n",
    "                self.curr_pos += len(batch_examples)\n",
    "        \n",
    "        \n",
    "        x = torch.stack([self.corpus[idx:idx+self.block_size] for idx in batch_examples], dim=0)\n",
    "        y = torch.stack([self.corpus[idx+1:idx+1+self.block_size] for idx in batch_examples], dim=0)\n",
    "        return x, y"
   ]
  },
  {
   "cell_type": "code",
   "execution_count": 9,
   "metadata": {},
   "outputs": [],
   "source": [
    "data = DataLoader(encoded_corpus[:100], 4)"
   ]
  },
  {
   "cell_type": "code",
   "execution_count": 10,
   "metadata": {},
   "outputs": [
    {
     "name": "stdout",
     "output_type": "stream",
     "text": [
      "curr_pos 0\n",
      "torch.Size([5, 4]) torch.Size([5, 4])\n",
      "context: [' and', ' we', \"'ll\", ' have'] -> [' corn']\n",
      "context: ['.', '\\n', '\\n', 'First'] -> [' Citizen']\n",
      "context: ['\\n', 'First', ' Citizen', ':'] -> ['\\n']\n",
      "context: ['First', ' Citizen', ':', '\\n'] -> ['Before']\n",
      "context: [',', ' we', ' know', \"'t\"] -> ['.']\n"
     ]
    }
   ],
   "source": [
    "print('curr_pos', data.curr_pos)\n",
    "x, y = data.get_batch(5)\n",
    "decode = lambda x: [itos[s.item()] for s in x]\n",
    "print(x.shape, y.shape)\n",
    "\n",
    "for i in range(5):\n",
    "    context = decode(x[i])\n",
    "    target = decode([y[i][-1]])\n",
    "    print(f'context: {context} -> {target}')"
   ]
  },
  {
   "attachments": {
    "image.png": {
     "image/png": "[encoded data removed]"
    }
   },
   "cell_type": "markdown",
   "metadata": {},
   "source": [
    "![image.png](attachment:image.png)"
   ]
  },
  {
   "cell_type": "code",
   "execution_count": 11,
   "metadata": {},
   "outputs": [],
   "source": [
    "import torch"
   ]
  },
  {
   "cell_type": "code",
   "execution_count": 58,
   "metadata": {},
   "outputs": [],
   "source": [
    "block_size = 8\n",
    "train_data = DataLoader(train_corpus, block_size)"
   ]
  },
  {
   "cell_type": "code",
   "execution_count": 13,
   "metadata": {},
   "outputs": [],
   "source": [
    "x, y = train_data.get_batch(32)"
   ]
  },
  {
   "cell_type": "code",
   "execution_count": 14,
   "metadata": {},
   "outputs": [
    {
     "name": "stdout",
     "output_type": "stream",
     "text": [
      "torch.Size([32, 8]) torch.Size([32, 8])\n",
      "context: [' hath', ' lost', ' his', ' holy', ' honour', ';', '\\n', 'The'] -> [' garter']\n",
      "context: [' dreams', ',', '\\n', 'To', ' set', ' my', ' brother', ' Clarence'] -> [' and']\n",
      "context: [' my', ' fellow', ' Tranio', ' stolen', ' your', ' clothes', '?', ' Or'] -> ['\\n']\n",
      "context: ['Or', ' hoop', ' his', ' body', ' more', ' with', ' thy', ' embraces'] -> [',']\n"
     ]
    }
   ],
   "source": [
    "decode = lambda x: [itos[s.item()] for s in x]\n",
    "print(x.shape, y.shape)\n",
    "\n",
    "for i in range(4):\n",
    "    context = decode(x[i])\n",
    "    target = decode([y[i][-1]])\n",
    "    print(f'context: {context} -> {target}')"
   ]
  },
  {
   "cell_type": "code",
   "execution_count": 15,
   "metadata": {},
   "outputs": [
    {
     "data": {
      "text/plain": [
       "(torch.Size([32, 8]), torch.Size([32, 8]))"
      ]
     },
     "execution_count": 15,
     "metadata": {},
     "output_type": "execute_result"
    }
   ],
   "source": [
    "x.shape, y.shape"
   ]
  },
  {
   "cell_type": "code",
   "execution_count": 16,
   "metadata": {},
   "outputs": [
    {
     "data": {
      "text/plain": [
       "'cuda'"
      ]
     },
     "execution_count": 16,
     "metadata": {},
     "output_type": "execute_result"
    }
   ],
   "source": [
    "device = 'cuda' if torch.cuda.is_available() else 'cpu'\n",
    "device"
   ]
  },
  {
   "cell_type": "code",
   "execution_count": 17,
   "metadata": {},
   "outputs": [],
   "source": [
    "vocab_size = len(vocabulary)\n",
    "embed_dim = 128\n",
    "batch_size = 512\n",
    "hidden_layer = 2048\n",
    "context = block_size\n",
    "\n",
    "class SimpleRNN(torch.nn.Module):\n",
    "    def __init__(self) -> None:\n",
    "        super().__init__()\n",
    "        self.E = torch.nn.Parameter(torch.randn((vocab_size, embed_dim)))\n",
    "        self.W = torch.nn.Parameter(torch.randn((embed_dim, hidden_layer)) * embed_dim**-0.5)\n",
    "        self.wb = torch.nn.Parameter(torch.zeros((hidden_layer,)))\n",
    "        self.U = torch.nn.Parameter(torch.randn((hidden_layer, hidden_layer)) * hidden_layer**-0.5)\n",
    "        self.ub = torch.nn.Parameter(torch.zeros((hidden_layer,)))\n",
    "        self.V = torch.nn.Parameter(torch.randn((hidden_layer, vocab_size)) * hidden_layer**-0.5)\n",
    "        # self.dropouts = torch.nn.ModuleList([torch.nn.Dropout() for _ in range(block_size)])\n",
    "        # self.dropouts2 = torch.nn.ModuleList([torch.nn.Dropout() for _ in range(block_size-1)])\n",
    "        # self.dropout3 = torch.nn.Dropout()\n",
    "        # self.W2 = torch.nn.Parameter(torch.randn((hidden_layer, 1024)) * hidden_layer**-0.5)\n",
    "        # self.w2b = torch.nn.Parameter(torch.zeros((1024, )))\n",
    "        # self.V = torch.nn.Parameter(torch.randn((1024, vocab_size)) * 1024**-0.5)\n",
    "\n",
    "    # def parameters(self) -> list[torch.tensor]:\n",
    "    #     return [self.E, self.W, self.wb, self.U, self.ub, self.V]\n",
    "\n",
    "    def forward(self, x): # x -> [32, 4]\n",
    "        # print(x.shape)\n",
    "        xt = self.E[x] # [32, 4, 64]\n",
    "        # print(xt.shape)\n",
    "        previous_h = None\n",
    "        # y_preds = torch.zeros(x.shape[0], x.shape[1], vocab_size, device=device)\n",
    "        hts = torch.zeros(x.shape[0], x.shape[1], hidden_layer, device=device)\n",
    "        for i in range(x.shape[1]): # Iterate over the number of tokens\n",
    "            ht = xt[:,i,:] @ self.W + self.wb # [32, 64] @ [64, 512] + [512] = [32, 512]\n",
    "            if previous_h is not None:\n",
    "                # from_memory = torch.nn.functional.relu(previous_h @ self.U + self.ub) # [32, 512] @ [512, 512] + [512] = [32, 512]\n",
    "                from_memory = previous_h @ self.U + self.ub # [32, 512] @ [512, 512] + [512] = [32, 512]\n",
    "                # from_memory = self.dropouts2[i-1](from_memory)\n",
    "                ht = ht + from_memory # [32, 512]\n",
    "            ht = torch.nn.functional.relu(ht)\n",
    "            # ht = self.dropouts[i](ht)\n",
    "            previous_h = ht # Save hidden state, this is an input for the next word\n",
    "            # print(ht.shape)\n",
    "            # yt = ht @ self.V # [32, 512] @ [512, vocab_size] = [32, vocab_size]\n",
    "            # y_preds[:,i] = yt # Save the prediction for each of the words\n",
    "            # print(yt.shape)\n",
    "            hts[:,i] = ht\n",
    "        y_preds = hts @ self.V # [batch_size, block_size, hidden_dim] @ [hidden_dim, vocab_size] = [batch_size, block_size, vocab_size]\n",
    "        # hidden_state = self.dropout3(torch.nn.functional.relu(hts @ self.W2 + self.w2b))\n",
    "        # y_preds = hidden_state @ self.V\n",
    "        return y_preds # [32, 4, vocab_size]\n"
   ]
  },
  {
   "cell_type": "code",
   "execution_count": 59,
   "metadata": {},
   "outputs": [],
   "source": [
    "# WEIGHT TYING\n",
    "vocab_size = len(vocabulary)\n",
    "embed_dim = 1024\n",
    "batch_size = 512\n",
    "hidden_layer = 1024\n",
    "context = block_size\n",
    "\n",
    "class SimpleRNN(torch.nn.Module):\n",
    "    def __init__(self) -> None:\n",
    "        super().__init__()\n",
    "        # self.E = torch.nn.Parameter(torch.randn((vocab_size, embed_dim)))\n",
    "        self.W = torch.nn.Parameter(torch.randn((embed_dim, hidden_layer)) * embed_dim**-0.5)\n",
    "        self.wb = torch.nn.Parameter(torch.zeros((hidden_layer,)))\n",
    "        self.U = torch.nn.Parameter(torch.randn((hidden_layer, hidden_layer)) * hidden_layer**-0.5)\n",
    "        self.ub = torch.nn.Parameter(torch.zeros((hidden_layer,)))\n",
    "        self.V = torch.nn.Parameter(torch.randn((hidden_layer, vocab_size)) * hidden_layer**-0.5)\n",
    "        # self.dropouts = torch.nn.ModuleList([torch.nn.Dropout() for _ in range(block_size)])\n",
    "        # self.dropouts2 = torch.nn.ModuleList([torch.nn.Dropout() for _ in range(block_size-1)])\n",
    "        # self.dropout3 = torch.nn.Dropout()\n",
    "        # self.W2 = torch.nn.Parameter(torch.randn((hidden_layer, 1024)) * hidden_layer**-0.5)\n",
    "        # self.w2b = torch.nn.Parameter(torch.zeros((1024, )))\n",
    "        # self.V = torch.nn.Parameter(torch.randn((1024, vocab_size)) * 1024**-0.5)\n",
    "\n",
    "    # def parameters(self) -> list[torch.tensor]:\n",
    "    #     return [self.E, self.W, self.wb, self.U, self.ub, self.V]\n",
    "\n",
    "    def forward(self, x): # x -> [32, 4]\n",
    "        # print(x.shape)\n",
    "        # xt = self.E[x] # [32, 4, 64]\n",
    "        xt = self.V.transpose(0,1)[x]\n",
    "        # print(xt.shape)\n",
    "        previous_h = None\n",
    "        # y_preds = torch.zeros(x.shape[0], x.shape[1], vocab_size, device=device)\n",
    "        hts = torch.zeros(x.shape[0], x.shape[1], hidden_layer, device=device)\n",
    "        for i in range(x.shape[1]): # Iterate over the number of tokens\n",
    "            ht = xt[:,i,:] @ self.W + self.wb # [32, 64] @ [64, 512] + [512] = [32, 512]\n",
    "            if previous_h is not None:\n",
    "                # from_memory = torch.nn.functional.relu(previous_h @ self.U + self.ub) # [32, 512] @ [512, 512] + [512] = [32, 512]\n",
    "                from_memory = previous_h @ self.U + self.ub # [32, 512] @ [512, 512] + [512] = [32, 512]\n",
    "                # from_memory = self.dropouts2[i-1](from_memory)\n",
    "                ht = ht + from_memory # [32, 512]\n",
    "            ht = torch.nn.functional.relu(ht)\n",
    "            # ht = self.dropouts[i](ht)\n",
    "            previous_h = ht # Save hidden state, this is an input for the next word\n",
    "            # print(ht.shape)\n",
    "            # yt = ht @ self.V # [32, 512] @ [512, vocab_size] = [32, vocab_size]\n",
    "            # y_preds[:,i] = yt # Save the prediction for each of the words\n",
    "            # print(yt.shape)\n",
    "            hts[:,i] = ht\n",
    "        y_preds = hts @ self.V # [batch_size, block_size, hidden_dim] @ [hidden_dim, vocab_size] = [batch_size, block_size, vocab_size]\n",
    "        # hidden_state = self.dropout3(torch.nn.functional.relu(hts @ self.W2 + self.w2b))\n",
    "        # y_preds = hidden_state @ self.V\n",
    "        return y_preds # [32, 4, vocab_size]"
   ]
  },
  {
   "cell_type": "code",
   "execution_count": 19,
   "metadata": {},
   "outputs": [
    {
     "data": {
      "text/plain": [
       "tensor(9.6193)"
      ]
     },
     "execution_count": 19,
     "metadata": {},
     "output_type": "execute_result"
    }
   ],
   "source": [
    "# Baseline loss\n",
    "-torch.log(torch.tensor(1)/vocab_size)"
   ]
  },
  {
   "cell_type": "code",
   "execution_count": 20,
   "metadata": {},
   "outputs": [
    {
     "data": {
      "text/plain": [
       "65"
      ]
     },
     "execution_count": 20,
     "metadata": {},
     "output_type": "execute_result"
    }
   ],
   "source": [
    "steps_per_epoch = int(len(train_data.corpus) / (batch_size * block_size))\n",
    "steps_per_epoch"
   ]
  },
  {
   "cell_type": "code",
   "execution_count": 60,
   "metadata": {},
   "outputs": [],
   "source": [
    "train_eval = DataLoader(train_corpus, block_size)\n",
    "val_eval = DataLoader(val_corpus, block_size)\n",
    "\n",
    "@torch.no_grad\n",
    "def estimate_loss(model: torch.nn.Module, train_eval: DataLoader, val_eval: DataLoader, batch_size: int = 256, eval_iters: int = 10):\n",
    "    model.eval()\n",
    "    train_losses = []\n",
    "    val_losses = []\n",
    "    for i in range(eval_iters):\n",
    "        x, y = train_eval.get_batch(batch_size)\n",
    "        x, y = x.to(device), y.to(device)\n",
    "        y_pred = model(x)\n",
    "        loss = torch.nn.functional.cross_entropy(y_pred.view(-1, vocab_size), y.view(-1))\n",
    "        train_losses.append(loss.item())\n",
    "\n",
    "        x, y = val_eval.get_batch(batch_size)\n",
    "        x, y = x.to(device), y.to(device)\n",
    "        y_pred = model(x)\n",
    "        loss = torch.nn.functional.cross_entropy(y_pred.view(-1, vocab_size), y.view(-1))\n",
    "        val_losses.append(loss.item())\n",
    "    train_loss = sum(train_losses)/eval_iters\n",
    "    val_loss = sum(val_losses)/eval_iters\n",
    "\n",
    "    model.train()\n",
    "    return train_loss, val_loss\n",
    "\n",
    "rnn = SimpleRNN()"
   ]
  },
  {
   "cell_type": "code",
   "execution_count": 22,
   "metadata": {},
   "outputs": [
    {
     "data": {
      "text/plain": [
       "17512448"
      ]
     },
     "execution_count": 22,
     "metadata": {},
     "output_type": "execute_result"
    }
   ],
   "source": [
    "sum([p.nelement() for p in rnn.parameters()])"
   ]
  },
  {
   "cell_type": "code",
   "execution_count": 23,
   "metadata": {},
   "outputs": [
    {
     "name": "stdout",
     "output_type": "stream",
     "text": [
      "Training for 1300 steps\n",
      "Step    1 - Train loss: 10.07 - Valid loss: 10.07\n",
      "Step  100 - Train loss: 5.24 - Valid loss: 5.38\n",
      "Step  200 - Train loss: 5.04 - Valid loss: 5.05\n",
      "Step  300 - Train loss: 4.93 - Valid loss: 5.05\n",
      "Step  400 - Train loss: 4.92 - Valid loss: 5.04\n",
      "Step  500 - Train loss: 4.87 - Valid loss: 5.05\n",
      "Step  600 - Train loss: 4.86 - Valid loss: 5.00\n",
      "Step  700 - Train loss: 4.91 - Valid loss: 5.00\n",
      "Step  800 - Train loss: 4.87 - Valid loss: 4.98\n",
      "Step  900 - Train loss: 4.84 - Valid loss: 4.97\n",
      "Step 1000 - Train loss: 4.82 - Valid loss: 4.98\n",
      "Step 1100 - Train loss: 4.78 - Valid loss: 4.96\n",
      "Step 1200 - Train loss: 4.85 - Valid loss: 4.98\n",
      "Step 1300 - Train loss: 4.85 - Valid loss: 4.97\n"
     ]
    }
   ],
   "source": [
    "rnn.to(device)\n",
    "learning_rate = 0.005\n",
    "\n",
    "train_losses = []\n",
    "val_losses = []\n",
    "\n",
    "# Training loop\n",
    "# for p in rnn.parameters():\n",
    "#     p.requires_grad = True\n",
    "rnn.train()\n",
    "optimizer = torch.optim.Adam(rnn.parameters(), lr=learning_rate, weight_decay=0.001)\n",
    "\n",
    "max_steps = 20*steps_per_epoch\n",
    "print(f'Training for {max_steps} steps')\n",
    "for step in range(max_steps):\n",
    "    x, y = train_data.get_batch(batch_size)\n",
    "    x, y = x.to(device), y.to(device)\n",
    "    y_pred = rnn.forward(x)\n",
    "    loss = torch.nn.functional.cross_entropy(y_pred.view(-1, vocab_size), y.view(-1))\n",
    "\n",
    "    # Clean the gradients\n",
    "    # for p in rnn.parameters():\n",
    "    #     p.grad = None\n",
    "    optimizer.zero_grad()\n",
    "    loss.backward()\n",
    "    # Update parameters\n",
    "    optimizer.step()\n",
    "    # for p in rnn.parameters():\n",
    "    #     p.data -= learning_rate * p.grad\n",
    "\n",
    "    # Logs\n",
    "    if (step+1) % 100 == 0 or step == 0 or step == max_steps-1:\n",
    "        train_loss, valid_loss = estimate_loss(rnn)\n",
    "        print(f'Step {step+1:4d} - Train loss: {train_loss:4.2f} - Valid loss: {valid_loss:4.2f}')\n",
    "        train_losses.append(train_loss)\n",
    "        val_losses.append(valid_loss)"
   ]
  },
  {
   "cell_type": "code",
   "execution_count": 24,
   "metadata": {},
   "outputs": [
    {
     "data": {
      "text/plain": [
       "[<matplotlib.lines.Line2D at 0x7fb9d087a560>]"
      ]
     },
     "execution_count": 24,
     "metadata": {},
     "output_type": "execute_result"
    },
    {
     "data": {
      "image/png": "[encoded data removed]",
      "text/plain": [
       "<Figure size 640x480 with 1 Axes>"
      ]
     },
     "metadata": {},
     "output_type": "display_data"
    }
   ],
   "source": [
    "import matplotlib.pyplot as plt\n",
    "\n",
    "plt.plot(train_losses[1:])\n",
    "plt.plot(val_losses[1:])"
   ]
  },
  {
   "cell_type": "code",
   "execution_count": 64,
   "metadata": {},
   "outputs": [
    {
     "name": "stderr",
     "output_type": "stream",
     "text": [
      "/home/manuel/projects/neural_networks_experiments/.venv/lib/python3.10/site-packages/torch/nn/modules/rnn.py:82: UserWarning: dropout option adds dropout after all but last recurrent layer, so non-zero dropout expects num_layers greater than 1, but got dropout=0.5 and num_layers=1\n",
      "  warnings.warn(\"dropout option adds dropout after all but last \"\n"
     ]
    }
   ],
   "source": [
    "class TorchRNN(torch.nn.Module):\n",
    "    def __init__(self, *args, **kwargs) -> None:\n",
    "        super().__init__(*args, **kwargs)\n",
    "        self.EmbedLayer = torch.nn.Embedding(vocab_size, embed_dim)\n",
    "        self.rnn = torch.nn.RNN(embed_dim, hidden_layer, batch_first=True, dropout=0.5, nonlinearity='relu')\n",
    "        self.dense = torch.nn.Linear(hidden_layer, vocab_size, bias=False)\n",
    "\n",
    "    def forward(self, x):\n",
    "        embeds = self.EmbedLayer(x)\n",
    "        output, ht = self.rnn(embeds)\n",
    "        logits = self.dense(output)\n",
    "        return logits\n",
    "    \n",
    "rnn = TorchRNN()"
   ]
  },
  {
   "cell_type": "code",
   "execution_count": 65,
   "metadata": {},
   "outputs": [
    {
     "data": {
      "text/plain": [
       "17492736"
      ]
     },
     "execution_count": 65,
     "metadata": {},
     "output_type": "execute_result"
    }
   ],
   "source": [
    "sum([p.nelement() for p in rnn.parameters()])"
   ]
  },
  {
   "cell_type": "code",
   "execution_count": 66,
   "metadata": {},
   "outputs": [
    {
     "name": "stdout",
     "output_type": "stream",
     "text": [
      "Training for 650 steps\n",
      "Step    1 - Train loss: 6111.06 - Valid loss: 6299.16\n",
      "Step  100 - Train loss: 4.95 - Valid loss: 5.43\n",
      "Step  200 - Train loss: 4.48 - Valid loss: 5.35\n",
      "Step  300 - Train loss: 4.12 - Valid loss: 5.41\n",
      "Step  400 - Train loss: 3.77 - Valid loss: 5.56\n",
      "Step  500 - Train loss: 3.55 - Valid loss: 5.75\n",
      "Step  600 - Train loss: 3.50 - Valid loss: 5.81\n",
      "Step  650 - Train loss: 3.45 - Valid loss: 5.94\n"
     ]
    }
   ],
   "source": [
    "rnn.to(device)\n",
    "\n",
    "train_losses = []\n",
    "val_losses = []\n",
    "\n",
    "# Training loop\n",
    "# for p in rnn.parameters():\n",
    "#     p.requires_grad = True\n",
    "rnn.train()\n",
    "optimizer = torch.optim.Adam(rnn.parameters(), lr=learning_rate)\n",
    "\n",
    "print(f'Training for {max_steps} steps')\n",
    "for step in range(max_steps):\n",
    "    x, y = train_data.get_batch(batch_size)\n",
    "    x, y = x.to(device), y.to(device)\n",
    "    y_pred = rnn(x)\n",
    "    loss = torch.nn.functional.cross_entropy(y_pred.view(-1, vocab_size), y.view(-1))\n",
    "\n",
    "    # Clean the gradients\n",
    "    # for p in rnn.parameters():\n",
    "    #     p.grad = None\n",
    "    optimizer.zero_grad()\n",
    "    loss.backward()\n",
    "    # Update parameters\n",
    "    optimizer.step()\n",
    "    # for p in rnn.parameters():\n",
    "    #     p.data -= learning_rate * p.grad\n",
    "\n",
    "    # Logs\n",
    "    if (step+1) % 100 == 0 or step == 0 or step == max_steps-1:\n",
    "        train_loss, valid_loss = estimate_loss(rnn)\n",
    "        print(f'Step {step+1:4d} - Train loss: {train_loss:4.2f} - Valid loss: {valid_loss:4.2f}')\n",
    "        train_losses.append(train_loss)\n",
    "        val_losses.append(valid_loss)"
   ]
  },
  {
   "cell_type": "code",
   "execution_count": null,
   "metadata": {},
   "outputs": [
    {
     "data": {
      "text/plain": [
       "[<matplotlib.lines.Line2D at 0x7f88d09bbc10>]"
      ]
     },
     "execution_count": 542,
     "metadata": {},
     "output_type": "execute_result"
    },
    {
     "data": {
      "image/png": "[encoded data removed]",
      "text/plain": [
       "<Figure size 640x480 with 1 Axes>"
      ]
     },
     "metadata": {},
     "output_type": "display_data"
    }
   ],
   "source": [
    "import matplotlib.pyplot as plt\n",
    "\n",
    "plt.plot(train_losses[1:])\n",
    "plt.plot(val_losses[1:])"
   ]
  },
  {
   "cell_type": "code",
   "execution_count": 32,
   "metadata": {},
   "outputs": [],
   "source": [
    "@torch.no_grad\n",
    "def generate(model, seed: torch.tensor, max_tokens = 200, max_context = block_size):\n",
    "    model.eval()\n",
    "    generation = seed.clone().to(device)\n",
    "    for i in range(max_tokens):\n",
    "        pred = model(generation[:,-max_context:])\n",
    "        pred = pred[:,-1,:] # Only take the prediction for the last word\n",
    "        probs = torch.nn.functional.softmax(pred, dim=-1)\n",
    "        next_tok = torch.multinomial(probs, 1)\n",
    "        generation = torch.cat((generation, next_tok), dim=1)\n",
    "    return ''.join(decode(generation[0]))"
   ]
  },
  {
   "cell_type": "code",
   "execution_count": 26,
   "metadata": {},
   "outputs": [
    {
     "name": "stdout",
     "output_type": "stream",
     "text": [
      "\n",
      "Lieutenant ports she paw to Warwick? for the stay like this?\n",
      "\n",
      "Nurse:\n",
      " mad.\n",
      "\n",
      "LUCIO:\n",
      "AUFIDIUS; at this that himself sacrament\n",
      "March, a provoke horse love reposing.\n",
      "\n",
      "ESCALUS:\n",
      "How say hath hold foot to them.\n",
      "You see I am, Emilia rest, advanced,\n",
      "And mourn that himself will mercy the VINCENTIO of my life?\n",
      "And all a love inquired sedition.\n",
      "\n",
      "SAMPSON:\n",
      "Be's happy time, assign! What\n",
      "Than minstrels our house! whose ValentineConceive,\n",
      "Topurse ram spirit with mine.\n",
      "And most their discreetly. what soul of him?\n",
      "\n",
      "First ANNE:\n",
      "His Lady shall come of friends, though stooping\n",
      "Examine, as I thou say.\n",
      "\n",
      " rear:\n",
      "Some, go not best true: when Willoughby- people,\n",
      "But on haughty's pleasure?\n",
      "en home how sugar hither weeping virtue to seeks,\n",
      "Which uncles done in any; and we take\n",
      "any general of\n"
     ]
    }
   ],
   "source": [
    "seed = torch.tensor([[stoi['\\n']]])\n",
    "print(generate(rnn, seed))"
   ]
  },
  {
   "attachments": {
    "image.png": {
     "image/png": "[encoded data removed]"
    }
   },
   "cell_type": "markdown",
   "metadata": {},
   "source": [
    "## Stacked RNNs\n",
    "\n",
    "![image.png](attachment:image.png)"
   ]
  },
  {
   "cell_type": "code",
   "execution_count": 69,
   "metadata": {},
   "outputs": [],
   "source": [
    "class StackedRNNs(torch.nn.Module):\n",
    "    def __init__(self, stacked_layers_num, *args, **kwargs) -> None:\n",
    "        super().__init__(*args, **kwargs)\n",
    "        self.EmbedLayer = torch.nn.Embedding(vocab_size, embed_dim)\n",
    "        self.stacked_rnn = torch.nn.RNN(embed_dim, hidden_layer, batch_first=True, dropout=0.5, nonlinearity='relu', num_layers=stacked_layers_num)\n",
    "        self.dense = torch.nn.Linear(hidden_layer, vocab_size, bias=False)\n",
    "\n",
    "    def forward(self, x):\n",
    "        embeds = self.EmbedLayer(x)\n",
    "        output, ht = self.stacked_rnn(embeds)\n",
    "        logits = self.dense(output)\n",
    "        return logits\n",
    "    \n",
    "model = StackedRNNs(3)"
   ]
  },
  {
   "cell_type": "code",
   "execution_count": 70,
   "metadata": {},
   "outputs": [
    {
     "name": "stdout",
     "output_type": "stream",
     "text": [
      "Training for 1300 steps\n",
      "Step    1 - Train loss: 8.76 - Valid loss: 8.69\n",
      "Step  100 - Train loss: 5.30 - Valid loss: 5.41\n",
      "Step  200 - Train loss: 4.94 - Valid loss: 5.16\n",
      "Step  300 - Train loss: 4.72 - Valid loss: 5.00\n",
      "Step  400 - Train loss: 4.66 - Valid loss: 4.93\n",
      "Step  500 - Train loss: 4.57 - Valid loss: 4.90\n",
      "Step  600 - Train loss: 4.52 - Valid loss: 4.90\n",
      "Step  700 - Train loss: 4.44 - Valid loss: 4.90\n",
      "Step  800 - Train loss: 4.43 - Valid loss: 4.87\n",
      "Step  900 - Train loss: 4.38 - Valid loss: 4.87\n",
      "Step 1000 - Train loss: 4.38 - Valid loss: 4.87\n",
      "Step 1100 - Train loss: 4.38 - Valid loss: 4.84\n",
      "Step 1200 - Train loss: 4.31 - Valid loss: 4.86\n",
      "Step 1300 - Train loss: 4.30 - Valid loss: 4.84\n"
     ]
    }
   ],
   "source": [
    "model.to(device)\n",
    "learning_rate = 0.001\n",
    "\n",
    "train_losses = []\n",
    "val_losses = []\n",
    "\n",
    "# Training loop\n",
    "model.train()\n",
    "optimizer = torch.optim.Adam(model.parameters(), lr=learning_rate, weight_decay=0.001)\n",
    "\n",
    "print(f'Training for {max_steps} steps')\n",
    "for step in range(max_steps):\n",
    "    x, y = train_data.get_batch(batch_size)\n",
    "    x, y = x.to(device), y.to(device)\n",
    "    y_pred = model(x)\n",
    "    loss = torch.nn.functional.cross_entropy(y_pred.view(-1, vocab_size), y.view(-1))\n",
    "\n",
    "    # Clean the gradients\n",
    "    optimizer.zero_grad()\n",
    "    # Calculate the gradient\n",
    "    loss.backward()\n",
    "    # Update parameters\n",
    "    optimizer.step()\n",
    "\n",
    "    # Logs\n",
    "    if (step+1) % 100 == 0 or step == 0 or step == max_steps-1:\n",
    "        train_loss, valid_loss = estimate_loss(model, train_eval, val_eval)\n",
    "        print(f'Step {step+1:4d} - Train loss: {train_loss:4.2f} - Valid loss: {valid_loss:4.2f}')\n",
    "        train_losses.append(train_loss)\n",
    "        val_losses.append(valid_loss)"
   ]
  },
  {
   "cell_type": "code",
   "execution_count": 71,
   "metadata": {},
   "outputs": [
    {
     "data": {
      "text/plain": [
       "[<matplotlib.lines.Line2D at 0x7fb9c824cc40>]"
      ]
     },
     "execution_count": 71,
     "metadata": {},
     "output_type": "execute_result"
    },
    {
     "data": {
      "image/png": "[encoded data removed]",
      "text/plain": [
       "<Figure size 640x480 with 1 Axes>"
      ]
     },
     "metadata": {},
     "output_type": "display_data"
    }
   ],
   "source": [
    "plt.plot(train_losses)\n",
    "plt.plot(val_losses)"
   ]
  },
  {
   "cell_type": "code",
   "execution_count": 72,
   "metadata": {},
   "outputs": [
    {
     "name": "stdout",
     "output_type": "stream",
     "text": [
      "\n",
      "GLOUCESTER:\n",
      "Amen, andInfuse't ladyship to the king, blue too pitiful:\n",
      "That stagger off sometime merry; and in my wife!\n",
      "\n",
      "GLOUCESTER:\n",
      "Say? what has? what is his voices\n",
      "That those mayor hath a gate and resort's deliciousness,\n",
      "You do have woollen.\n",
      "\n",
      "DUKE OF YORK:\n",
      "Here am brave fell and shade to ask.\n",
      "\n",
      "HENRY BOLINGBROKE:\n",
      "Go thither, enough the chiefest liver.\n",
      "\n",
      "WARWICK:\n",
      "You are but then would I marry with thee.\n",
      "Come makes, Cominius's subject, strew it were.\n",
      "\n",
      "AUTOLYCUS:\n",
      "No, no wife!\n",
      "That then the true full o' enemies,\n",
      "Some stark of their answered till I do\n",
      " Are of child and share your honour:\n",
      "So but,thoroughly, presentDidst he approbation'd so water you.\n",
      "\n",
      "COMINIUS:\n",
      "You must not live; but these another Minola.\n",
      "The day the love will bid\n",
      "Unto my need from happiness.\n"
     ]
    }
   ],
   "source": [
    "seed = torch.tensor([[stoi['\\n']]])\n",
    "print(generate(model, seed))"
   ]
  },
  {
   "cell_type": "markdown",
   "metadata": {},
   "source": [
    "## LSTMs"
   ]
  },
  {
   "cell_type": "code",
   "execution_count": 111,
   "metadata": {},
   "outputs": [],
   "source": [
    "block_size = 16\n",
    "vocab_size = len(vocabulary)\n",
    "embed_dim = 1024\n",
    "batch_size = 512\n",
    "hidden_layer = 1024\n",
    "\n",
    "train_data = DataLoader(train_corpus, block_size)\n",
    "train_eval = DataLoader(train_corpus, block_size)\n",
    "val_eval = DataLoader(val_corpus, block_size)"
   ]
  },
  {
   "cell_type": "code",
   "execution_count": 116,
   "metadata": {},
   "outputs": [],
   "source": [
    "class LSTM(torch.nn.Module):\n",
    "    def __init__(self, stacked_layers_num, *args, **kwargs) -> None:\n",
    "        super().__init__(*args, **kwargs)\n",
    "        self.EmbedLayer = torch.nn.Embedding(vocab_size, embed_dim)\n",
    "        self.lstm = torch.nn.LSTM(embed_dim, hidden_layer, batch_first=True, dropout=0.5, num_layers=stacked_layers_num)\n",
    "        self.dense = torch.nn.Linear(hidden_layer, vocab_size, bias=False)\n",
    "\n",
    "    def forward(self, x):\n",
    "        embeds = self.EmbedLayer(x)\n",
    "        output, ht = self.lstm(embeds)\n",
    "        logits = self.dense(output)\n",
    "        return logits\n",
    "    \n",
    "model = LSTM(3)"
   ]
  },
  {
   "cell_type": "code",
   "execution_count": 120,
   "metadata": {},
   "outputs": [],
   "source": [
    "# Training loop\n",
    "def training_loop(model, lr, max_steps, data_loader: DataLoader, train_eval: DataLoader, val_eval: DataLoader, weight_decay: float = 0.0):\n",
    "    train_losses = []\n",
    "    val_losses = []\n",
    "\n",
    "    model.train()\n",
    "    optimizer = torch.optim.Adam(model.parameters(), lr=lr, weight_decay=weight_decay)\n",
    "\n",
    "    print(f'Training for {max_steps} steps')\n",
    "    for step in range(max_steps):\n",
    "        x, y = data_loader.get_batch(batch_size)\n",
    "        x, y = x.to(device), y.to(device)\n",
    "        y_pred = model(x)\n",
    "        loss = torch.nn.functional.cross_entropy(y_pred.view(-1, vocab_size), y.view(-1))\n",
    "\n",
    "        # Clean the gradients\n",
    "        optimizer.zero_grad()\n",
    "        # Calculate the gradient\n",
    "        loss.backward()\n",
    "        # Update parameters\n",
    "        optimizer.step()\n",
    "\n",
    "        # Logs\n",
    "        if (step+1) % 100 == 0 or step == 0 or step == max_steps-1:\n",
    "            train_loss, valid_loss = estimate_loss(model, train_eval, val_eval)\n",
    "            print(f'Step {step+1:4d} - Train loss: {train_loss:4.2f} - Valid loss: {valid_loss:4.2f}')\n",
    "            train_losses.append(train_loss)\n",
    "            val_losses.append(valid_loss)\n",
    "    return train_losses, val_losses"
   ]
  },
  {
   "cell_type": "code",
   "execution_count": 121,
   "metadata": {},
   "outputs": [
    {
     "data": {
      "text/plain": [
       "32"
      ]
     },
     "execution_count": 121,
     "metadata": {},
     "output_type": "execute_result"
    }
   ],
   "source": [
    "steps_per_epoch = int(len(train_data.corpus) / (batch_size * block_size))\n",
    "steps_per_epoch"
   ]
  },
  {
   "cell_type": "code",
   "execution_count": 122,
   "metadata": {},
   "outputs": [
    {
     "name": "stdout",
     "output_type": "stream",
     "text": [
      "Training for 640 steps\n",
      "Step    1 - Train loss: 3.96 - Valid loss: 5.22\n",
      "Step  100 - Train loss: 3.56 - Valid loss: 4.77\n",
      "Step  200 - Train loss: 3.57 - Valid loss: 4.80\n",
      "Step  300 - Train loss: 3.56 - Valid loss: 4.77\n",
      "Step  400 - Train loss: 3.42 - Valid loss: 4.76\n",
      "Step  500 - Train loss: 3.34 - Valid loss: 4.77\n",
      "Step  600 - Train loss: 3.37 - Valid loss: 4.72\n",
      "Step  640 - Train loss: 3.38 - Valid loss: 4.75\n"
     ]
    }
   ],
   "source": [
    "model.to(device)\n",
    "learning_rate = 0.002\n",
    "train_losses, val_losses = training_loop(model, learning_rate, steps_per_epoch*20, train_data, train_eval, val_eval, weight_decay=0.0001)"
   ]
  },
  {
   "cell_type": "code",
   "execution_count": 123,
   "metadata": {},
   "outputs": [
    {
     "data": {
      "text/plain": [
       "[<matplotlib.lines.Line2D at 0x7fb9c80eb7f0>]"
      ]
     },
     "execution_count": 123,
     "metadata": {},
     "output_type": "execute_result"
    },
    {
     "data": {
      "image/png": "[encoded data removed]",
      "text/plain": [
       "<Figure size 640x480 with 1 Axes>"
      ]
     },
     "metadata": {},
     "output_type": "display_data"
    }
   ],
   "source": [
    "plt.plot(train_losses)\n",
    "plt.plot(val_losses)"
   ]
  },
  {
   "cell_type": "code",
   "execution_count": 124,
   "metadata": {},
   "outputs": [
    {
     "name": "stdout",
     "output_type": "stream",
     "text": [
      "\n",
      "His superfluity: yet she was drunk she's images!\n",
      "And, with this crow, hence of our charge,\n",
      "And watch me scaled plain danger,\n",
      "Which you do had been, like a most most present day,\n",
      "Or could sell unrestrained that were commanded\n",
      "A greater new-Plays- Cambio's quite.\n",
      "And follow him too late; and one she may be strong\n",
      "In bed and lane's disadvantage, I'll bring.\n",
      "CLARENCE:\n",
      "\n",
      "WARWICK:\n",
      "With such a lustful heart twinkle out the moon,\n",
      " discoveries of Gaunt, this wretch, calendar nap,\n",
      "More conduct to this palsy wretch delights,\n",
      " Franciscan Phoebus'er one be condemned well fool!\n",
      "What will I learn?\n",
      "More than my will be humble was a happy of.\n",
      "Boy, stay your lordship!\n",
      "\n",
      "DUCHESS OF YORK:\n",
      "O morrow, dear!\n",
      "\n",
      "JULIET:\n",
      "O God, my son told me so evil,\n",
      "Though may be so forgiveness, here's nobody\n"
     ]
    }
   ],
   "source": [
    "seed = torch.tensor([[stoi['\\n']]])\n",
    "print(generate(model, seed))"
   ]
  },
  {
   "cell_type": "code",
   "execution_count": null,
   "metadata": {},
   "outputs": [],
   "source": []
  }
 ],
 "metadata": {
  "kernelspec": {
   "display_name": ".venv",
   "language": "python",
   "name": "python3"
  },
  "language_info": {
   "codemirror_mode": {
    "name": "ipython",
    "version": 3
   },
   "file_extension": ".py",
   "mimetype": "text/x-python",
   "name": "python",
   "nbconvert_exporter": "python",
   "pygments_lexer": "ipython3",
   "version": "3.10.12"
  }
 },
 "nbformat": 4,
 "nbformat_minor": 2
}
