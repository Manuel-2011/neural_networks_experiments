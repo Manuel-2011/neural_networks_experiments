{
 "cells": [
  {
   "cell_type": "code",
   "execution_count": 1,
   "metadata": {},
   "outputs": [],
   "source": [
    "import torch\n",
    "import numpy as np"
   ]
  },
  {
   "cell_type": "code",
   "execution_count": 101,
   "metadata": {},
   "outputs": [],
   "source": [
    "h = 4\n",
    "batch_size = 32\n",
    "emb_dim = 4\n",
    "block_size = 4\n",
    "lr = 1e-2"
   ]
  },
  {
   "cell_type": "code",
   "execution_count": 110,
   "metadata": {},
   "outputs": [
    {
     "name": "stdout",
     "output_type": "stream",
     "text": [
      "Vocabulary [0, 1, 2, 3, 4, 5, 6, 7, 8, 9, '+', '=']\n"
     ]
    }
   ],
   "source": [
    "vocab = list(range(0,10))+['+']+['=']\n",
    "print('Vocabulary', vocab)\n",
    "stoi = {s: i for i, s in enumerate(vocab)}"
   ]
  },
  {
   "cell_type": "code",
   "execution_count": 103,
   "metadata": {},
   "outputs": [],
   "source": [
    "# Dataset\n",
    "def get_batch():\n",
    "    rand_nums = torch.randint(0, 5, (batch_size,2))\n",
    "    x = torch.stack((rand_nums[:,0], torch.ones(batch_size)*stoi['+'], rand_nums[:,1], torch.ones(batch_size)*stoi['=']), dim=1)\n",
    "    x = x.to(torch.int32)\n",
    "    y = rand_nums.sum(axis=1)\n",
    "    return x, y"
   ]
  },
  {
   "cell_type": "code",
   "execution_count": 111,
   "metadata": {},
   "outputs": [
    {
     "name": "stdout",
     "output_type": "stream",
     "text": [
      "0.0008491513435728848\n"
     ]
    }
   ],
   "source": [
    "# Weights\n",
    "emb = torch.randn(len(vocab), emb_dim)\n",
    "\n",
    "Wq = torch.randn(emb_dim, h) / emb_dim**0.5\n",
    "Wk = torch.randn(emb_dim, h) / emb_dim**0.5\n",
    "Wv = torch.randn(emb_dim, h) / emb_dim**0.5\n",
    "\n",
    "Wf = torch.randn(h, len(vocab) - 2) / h**0.5 # The valid outputs are digits only\n",
    "bf = torch.zeros(len(vocab) - 2)\n",
    "\n",
    "parameters = [emb, Wq, Wk, Wv, Wf, bf]\n",
    "for p in parameters:\n",
    "    p.requires_grad = True\n",
    "\n",
    "lossi = []\n",
    "\n",
    "for i in range(100000):\n",
    "    x, y = get_batch()\n",
    "    # Embed the tokens\n",
    "    embedded = emb[x]\n",
    "\n",
    "    # Linear transformations to get K, Q, V\n",
    "    Q = embedded @ Wq\n",
    "    K = embedded @ Wk\n",
    "    V = embedded @ Wv\n",
    "\n",
    "    # Self-attention\n",
    "    attention = Q @ K.transpose(-2, -1)\n",
    "    # Mask\n",
    "    # tril = torch.tril(torch.ones(block_size, block_size))\n",
    "    # tril[tril==0] = -torch.inf\n",
    "    # tril[tril==1] = 0\n",
    "    # att_logits = (attention + tril) / h**0.5\n",
    "    # More sofisticated way for the mask\n",
    "    attention *= h**-0.5\n",
    "    tril = torch.tril(torch.ones(block_size, block_size))\n",
    "    att_logits = attention.masked_fill(tril[:block_size, :block_size] == 0, float('-inf'))\n",
    "    # Softmax\n",
    "    att_weights = torch.nn.functional.softmax(att_logits, dim=-1)\n",
    "    # Attention output\n",
    "    weighted_avg = att_weights @ V\n",
    "\n",
    "    # We are only interested in predict in the loss for the last prediction, so we are ignoring the tokens behind '='\n",
    "    x = weighted_avg[:,-1,:]\n",
    "\n",
    "    # Final projection\n",
    "    logits = x @ Wf + bf\n",
    "    loss = torch.nn.functional.cross_entropy(logits, y)\n",
    "    lossi.append(loss.item())\n",
    "\n",
    "    # Params update\n",
    "    for p in parameters:\n",
    "        p.grad = None\n",
    "\n",
    "    loss.backward()\n",
    "    for p in parameters:\n",
    "        p.data -= lr * p.grad\n",
    "\n",
    "print(loss.item())"
   ]
  },
  {
   "cell_type": "code",
   "execution_count": 113,
   "metadata": {},
   "outputs": [
    {
     "data": {
      "text/plain": [
       "[<matplotlib.lines.Line2D at 0x7fe226181780>]"
      ]
     },
     "execution_count": 113,
     "metadata": {},
     "output_type": "execute_result"
    },
    {
     "data": {
      "image/png": "[encoded data removed]",
      "text/plain": [
       "<Figure size 640x480 with 1 Axes>"
      ]
     },
     "metadata": {},
     "output_type": "display_data"
    }
   ],
   "source": [
    "import matplotlib.pyplot as plt\n",
    "\n",
    "plt.plot(torch.tensor(lossi).view(-1, 1000).mean(1))"
   ]
  },
  {
   "cell_type": "code",
   "execution_count": 114,
   "metadata": {},
   "outputs": [
    {
     "data": {
      "text/plain": [
       "1.0"
      ]
     },
     "execution_count": 114,
     "metadata": {},
     "output_type": "execute_result"
    }
   ],
   "source": [
    "import random\n",
    "experiments = 1000\n",
    "correct = 0\n",
    "for i in range(experiments):\n",
    "    vals = [random.randint(0, 4), random.randint(0, 4)]\n",
    "    sample = [vals[0]] + [stoi['+']] + [vals[1]] + [stoi['=']]\n",
    "\n",
    "    embedded = emb[[[sample]]]\n",
    "\n",
    "    # Forward pass\n",
    "    Q = embedded @ Wq\n",
    "    K = embedded @ Wk\n",
    "    V = embedded @ Wv\n",
    "    attention = Q @ K.transpose(-2, -1)\n",
    "    # Mask\n",
    "    # tril = torch.tril(torch.ones(block_size, block_size))\n",
    "    # tril[tril==0] = -torch.inf\n",
    "    # tril[tril==1] = 0\n",
    "    # att_logits = (attention + tril) / h**0.5\n",
    "    # More sofisticated way\n",
    "    attention *= h**-0.5\n",
    "    tril = torch.tril(torch.ones(block_size, block_size))\n",
    "    att_logits = attention.masked_fill(tril[:block_size, :block_size] == 0, float('-inf'))\n",
    "    # Softmax\n",
    "    att_weights = torch.nn.functional.softmax(att_logits, dim=-1)\n",
    "    # Attention output\n",
    "    weighted_avg = att_weights @ V\n",
    "    # We are only interested in predict in the loss for the last prediction, so we are ignoring the tokens behind '='\n",
    "    x = weighted_avg[:,-1,:]\n",
    "    # Final projection\n",
    "    logits = x @ Wf + bf\n",
    "\n",
    "    result = torch.nn.functional.softmax(logits, dim=-1).argmax().item()\n",
    "    if sum(vals) == result:\n",
    "        correct += 1\n",
    "\n",
    "correct/experiments"
   ]
  },
  {
   "cell_type": "code",
   "execution_count": 131,
   "metadata": {},
   "outputs": [
    {
     "name": "stdout",
     "output_type": "stream",
     "text": [
      "5\n"
     ]
    }
   ],
   "source": [
    "with torch.no_grad():\n",
    "    vals = [3, 2]\n",
    "    sample = [vals[0]] + [stoi['+']] + [vals[1]] + [stoi['=']]\n",
    "\n",
    "    embedded = emb[[[sample]]]\n",
    "\n",
    "    # Forward pass\n",
    "    Q = embedded @ Wq\n",
    "    K = embedded @ Wk\n",
    "    V = embedded @ Wv\n",
    "    attention = Q @ K.transpose(-2, -1)\n",
    "    # Mask\n",
    "    tril = torch.tril(torch.ones(block_size, block_size))\n",
    "    tril[tril==0] = -torch.inf\n",
    "    tril[tril==1] = 0\n",
    "    att_logits = (attention + tril) / h**0.5\n",
    "    # Softmax\n",
    "    att_weights = torch.nn.functional.softmax(att_logits, dim=-1)\n",
    "    # Attention output\n",
    "    weighted_avg = att_weights @ V\n",
    "    # We are only interested in predict in the loss for the last prediction, so we are ignoring the tokens behind '='\n",
    "    x = weighted_avg[:,-1,:]\n",
    "    # Final projection\n",
    "    logits = x @ Wf + bf\n",
    "\n",
    "    result = torch.nn.functional.softmax(logits, dim=-1).argmax().item()\n",
    "    print(result)"
   ]
  },
  {
   "cell_type": "code",
   "execution_count": 143,
   "metadata": {},
   "outputs": [
    {
     "data": {
      "text/plain": [
       "tensor([1.0000, 1.0000, 1.0000, 1.0000])"
      ]
     },
     "execution_count": 143,
     "metadata": {},
     "output_type": "execute_result"
    }
   ],
   "source": [
    "att_weights[0].sum(axis=(1))"
   ]
  },
  {
   "cell_type": "code",
   "execution_count": 132,
   "metadata": {},
   "outputs": [
    {
     "name": "stdout",
     "output_type": "stream",
     "text": [
      "tensor([0.4959, 0.0006, 0.4135, 0.0900])\n"
     ]
    },
    {
     "data": {
      "image/png": "[encoded data removed]",
      "text/plain": [
       "<Figure size 640x480 with 2 Axes>"
      ]
     },
     "metadata": {},
     "output_type": "display_data"
    }
   ],
   "source": [
    "plt.imshow(att_weights.squeeze()[-1].view(1,4))\n",
    "plt.colorbar()\n",
    "print(att_weights.squeeze()[-1])"
   ]
  },
  {
   "cell_type": "markdown",
   "metadata": {},
   "source": [
    "## Try adding any two digits"
   ]
  },
  {
   "cell_type": "code",
   "execution_count": 4,
   "metadata": {},
   "outputs": [],
   "source": [
    "device = 'cuda' if torch.cuda.is_available() else 'cpu'"
   ]
  },
  {
   "cell_type": "code",
   "execution_count": 5,
   "metadata": {},
   "outputs": [],
   "source": [
    "# Dataset\n",
    "examples = 100000\n",
    "def create_data():\n",
    "    rand_nums = torch.randint(0, 10, (examples,2))\n",
    "    x1 = torch.stack((torch.ones(examples)*stoi['<s>'], rand_nums[:,0], torch.ones(examples)*stoi['+'], rand_nums[:,1], torch.ones(examples)*stoi['=']), dim=1)\n",
    "    x1 = x1.to(torch.int32)\n",
    "    y1 = torch.tensor([0 if len(str(x)) == 1 else int(str(x)[0]) for x in rand_nums.sum(axis=1).numpy()])\n",
    "    x2 = torch.stack((rand_nums[:,0], torch.ones(examples)*stoi['+'], rand_nums[:,1], torch.ones(examples)*stoi['='], y1), dim=1)\n",
    "    x2 = x2.to(torch.int32)\n",
    "    y2 = torch.tensor([x if len(str(x)) == 1 else int(str(x)[1]) for x in rand_nums.sum(axis=1).numpy()]).view(-1)\n",
    "    x = torch.stack((x1, x2), dim=1).view(-1, 5)\n",
    "    y = torch.stack((y1, y2), dim=0).view(-1)\n",
    "    return x, y\n",
    "\n",
    "data = create_data()\n",
    "\n",
    "def get_batch():\n",
    "    data_length = len(data[0])\n",
    "    ix = torch.randint(0, data_length, (batch_size,))\n",
    "    return data[0][ix], data[1][ix]\n"
   ]
  },
  {
   "cell_type": "code",
   "execution_count": 92,
   "metadata": {},
   "outputs": [],
   "source": [
    "h = 8\n",
    "batch_size = 128\n",
    "emb_dim = 8\n",
    "block_size = 5\n",
    "lr = 1e-3"
   ]
  },
  {
   "cell_type": "code",
   "execution_count": 93,
   "metadata": {},
   "outputs": [
    {
     "name": "stdout",
     "output_type": "stream",
     "text": [
      "1.8119394779205322\n"
     ]
    }
   ],
   "source": [
    "# Weights\n",
    "emb = torch.randn(len(vocab), emb_dim).to(device)\n",
    "# Positional embedding\n",
    "pos_emb = torch.randn(block_size, emb_dim).to(device)\n",
    "\n",
    "Wq = (torch.randn(emb_dim, h) / emb_dim**0.5).to(device)\n",
    "Wk = (torch.randn(emb_dim, h) / emb_dim**0.5).to(device)\n",
    "Wv = (torch.randn(emb_dim, h) / emb_dim**0.5).to(device)\n",
    "\n",
    "Wf = (torch.randn(h, len(vocab) - 2) / h**0.5).to(device) # The valid outputs are digits only\n",
    "bf = (torch.zeros(len(vocab) - 2)).to(device)\n",
    "\n",
    "parameters = [emb, Wq, Wk, Wv, Wf, bf]\n",
    "for p in parameters:\n",
    "    p.requires_grad = True\n",
    "\n",
    "lossi = []\n",
    "\n",
    "for i in range(10000):\n",
    "    x, y = get_batch()\n",
    "    x = x.to(device)\n",
    "    y = y.to(device)\n",
    "    # Embed the tokens\n",
    "    embedded = emb[x]\n",
    "    embedded += pos_emb[torch.arange(block_size)]\n",
    "\n",
    "    # Linear transformations to get K, Q, V\n",
    "    Q = embedded @ Wq\n",
    "    K = embedded @ Wk\n",
    "    V = embedded @ Wv\n",
    "\n",
    "    # Self-attention\n",
    "    attention = Q @ K.transpose(-2, -1)\n",
    "    # Mask\n",
    "    tril = torch.tril(torch.ones(block_size, block_size)).to(device)\n",
    "    tril[tril==0] = -torch.inf\n",
    "    tril[tril==1] = 0\n",
    "    att_logits = (attention + tril) / h**0.5\n",
    "    # Softmax\n",
    "    att_weights = torch.nn.functional.softmax(att_logits, dim=-1)\n",
    "    # Attention output\n",
    "    weighted_avg = att_weights @ V\n",
    "\n",
    "    # We are only interested in predict in the loss for the last prediction, so we are ignoring the tokens behind '='\n",
    "    x = weighted_avg[:,-1:,:].squeeze()\n",
    "\n",
    "    # Final projection\n",
    "    logits = x @ Wf + bf\n",
    "    loss = torch.nn.functional.cross_entropy(logits, y, ignore_index=-1)\n",
    "    lossi.append(loss.item())\n",
    "\n",
    "    # Params update\n",
    "    for p in parameters:\n",
    "        p.grad = None\n",
    "\n",
    "    loss.backward()\n",
    "    for p in parameters:\n",
    "        p.data -= lr * p.grad\n",
    "\n",
    "print(loss.item())"
   ]
  },
  {
   "cell_type": "code",
   "execution_count": 94,
   "metadata": {},
   "outputs": [
    {
     "data": {
      "text/plain": [
       "[<matplotlib.lines.Line2D at 0x7fe226f27f70>]"
      ]
     },
     "execution_count": 94,
     "metadata": {},
     "output_type": "execute_result"
    },
    {
     "data": {
      "image/png": "[encoded data removed]",
      "text/plain": [
       "<Figure size 640x480 with 1 Axes>"
      ]
     },
     "metadata": {},
     "output_type": "display_data"
    }
   ],
   "source": [
    "import matplotlib.pyplot as plt\n",
    "\n",
    "plt.plot(torch.tensor(lossi).view(-1, 100).mean(1))"
   ]
  },
  {
   "cell_type": "code",
   "execution_count": 100,
   "metadata": {},
   "outputs": [
    {
     "name": "stdout",
     "output_type": "stream",
     "text": [
      "[0, 0] 0\n",
      "[0, 0] 0\n",
      "[0, 0] 0\n",
      "[0, 0] 0\n",
      "[0, 0] 0\n"
     ]
    },
    {
     "data": {
      "text/plain": [
       "0.005"
      ]
     },
     "execution_count": 100,
     "metadata": {},
     "output_type": "execute_result"
    }
   ],
   "source": [
    "import random\n",
    "experiments = 1000\n",
    "correct = 0\n",
    "with torch.no_grad():\n",
    "    for i in range(experiments):\n",
    "        sample = torch.tensor([[[stoi['<s>']] + [vals[0]] + [stoi['+']] + [vals[1]] + [stoi['=']]]]).to(device)\n",
    "        result = 0\n",
    "        vals = [random.randint(0, 10), random.randint(0, 10)]\n",
    "        while sample.shape[-1] < 7:\n",
    "            embedded = emb[sample[:,:,-block_size:]]\n",
    "\n",
    "            # Forward pass\n",
    "            Q = embedded @ Wq\n",
    "            K = embedded @ Wk\n",
    "            V = embedded @ Wv\n",
    "            attention = Q @ K.transpose(-2, -1)\n",
    "            # Mask\n",
    "            tril[tril==0] = -torch.inf\n",
    "            tril[tril==1] = 0\n",
    "            att_logits = (attention + tril) / h**0.5\n",
    "            # Softmax\n",
    "            att_weights = torch.nn.functional.softmax(att_logits, dim=-1)\n",
    "            # Attention output\n",
    "            weighted_avg = att_weights @ V\n",
    "            # We are only interested in predict in the loss for the last prediction, so we are ignoring the tokens behind '='\n",
    "            x = weighted_avg[:,-1,:].squeeze()\n",
    "            # Final projection\n",
    "            logits = x @ Wf + bf\n",
    "\n",
    "            if sample.shape[-1] == 5:\n",
    "                result += torch.nn.functional.softmax(logits, dim=-1).argmax().item()*10\n",
    "            if sample.shape[-1] == 6:\n",
    "                result += torch.nn.functional.softmax(logits, dim=-1).argmax().item()\n",
    "            sample = torch.concat((sample, torch.tensor(([[[result]]])).to(device)), dim=-1)\n",
    "        if sum(vals) == result:\n",
    "            correct += 1\n",
    "            print(vals, result)\n",
    "\n",
    "correct/experiments"
   ]
  },
  {
   "cell_type": "code",
   "execution_count": null,
   "metadata": {},
   "outputs": [],
   "source": []
  },
  {
   "cell_type": "code",
   "execution_count": null,
   "metadata": {},
   "outputs": [],
   "source": []
  }
 ],
 "metadata": {
  "kernelspec": {
   "display_name": ".venv",
   "language": "python",
   "name": "python3"
  },
  "language_info": {
   "codemirror_mode": {
    "name": "ipython",
    "version": 3
   },
   "file_extension": ".py",
   "mimetype": "text/x-python",
   "name": "python",
   "nbconvert_exporter": "python",
   "pygments_lexer": "ipython3",
   "version": "3.10.12"
  }
 },
 "nbformat": 4,
 "nbformat_minor": 2
}
