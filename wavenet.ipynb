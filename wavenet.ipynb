{
  "cells": [
    {
      "cell_type": "markdown",
      "metadata": {
        "id": "rToK0Tku8PPn"
      },
      "source": [
        "## makemore: Wavenet"
      ]
    },
    {
      "cell_type": "code",
      "execution_count": 4,
      "metadata": {
        "id": "8sFElPqq8PPp"
      },
      "outputs": [],
      "source": [
        "# there no change change in the first several cells from last lecture"
      ]
    },
    {
      "cell_type": "code",
      "execution_count": 5,
      "metadata": {
        "id": "ChBbac4y8PPq"
      },
      "outputs": [],
      "source": [
        "import torch\n",
        "import torch.nn.functional as F\n",
        "import matplotlib.pyplot as plt # for making figures\n",
        "%matplotlib inline"
      ]
    },
    {
      "cell_type": "code",
      "execution_count": 6,
      "metadata": {
        "colab": {
          "base_uri": "https://localhost:8080/"
        },
        "id": "klmu3ZG08PPr",
        "outputId": "b95bda43-354c-4ec4-e2e1-f6008af85ae3"
      },
      "outputs": [
        {
          "name": "stdout",
          "output_type": "stream",
          "text": [
            "32033\n",
            "15\n",
            "['emma', 'olivia', 'ava', 'isabella', 'sophia', 'charlotte', 'mia', 'amelia']\n"
          ]
        }
      ],
      "source": [
        "# read in all the words\n",
        "words = open('names.txt', 'r').read().splitlines()\n",
        "print(len(words))\n",
        "print(max(len(w) for w in words))\n",
        "print(words[:8])"
      ]
    },
    {
      "cell_type": "code",
      "execution_count": 7,
      "metadata": {
        "colab": {
          "base_uri": "https://localhost:8080/"
        },
        "id": "BCQomLE_8PPs",
        "outputId": "55944f1b-f430-447e-b7f9-8332a6b6d8cf"
      },
      "outputs": [
        {
          "name": "stdout",
          "output_type": "stream",
          "text": [
            "{1: 'a', 2: 'b', 3: 'c', 4: 'd', 5: 'e', 6: 'f', 7: 'g', 8: 'h', 9: 'i', 10: 'j', 11: 'k', 12: 'l', 13: 'm', 14: 'n', 15: 'o', 16: 'p', 17: 'q', 18: 'r', 19: 's', 20: 't', 21: 'u', 22: 'v', 23: 'w', 24: 'x', 25: 'y', 26: 'z', 0: '.'}\n",
            "27\n"
          ]
        }
      ],
      "source": [
        "# build the vocabulary of characters and mappings to/from integers\n",
        "chars = sorted(list(set(''.join(words))))\n",
        "stoi = {s:i+1 for i,s in enumerate(chars)}\n",
        "stoi['.'] = 0\n",
        "itos = {i:s for s,i in stoi.items()}\n",
        "vocab_size = len(itos)\n",
        "print(itos)\n",
        "print(vocab_size)"
      ]
    },
    {
      "cell_type": "code",
      "execution_count": 8,
      "metadata": {
        "colab": {
          "base_uri": "https://localhost:8080/"
        },
        "id": "V_zt2QHr8PPs",
        "outputId": "00f347bd-1ce9-4932-e1e2-6f46082fb3df"
      },
      "outputs": [
        {
          "name": "stdout",
          "output_type": "stream",
          "text": [
            "torch.Size([182625, 8]) torch.Size([182625])\n",
            "torch.Size([22655, 8]) torch.Size([22655])\n",
            "torch.Size([22866, 8]) torch.Size([22866])\n"
          ]
        }
      ],
      "source": [
        "# build the dataset\n",
        "block_size = 8 # context length: how many characters do we take to predict the next one?\n",
        "\n",
        "def build_dataset(words):\n",
        "  X, Y = [], []\n",
        "\n",
        "  for w in words:\n",
        "    context = [0] * block_size\n",
        "    for ch in w + '.':\n",
        "      ix = stoi[ch]\n",
        "      X.append(context)\n",
        "      Y.append(ix)\n",
        "      context = context[1:] + [ix] # crop and append\n",
        "\n",
        "  X = torch.tensor(X)\n",
        "  Y = torch.tensor(Y)\n",
        "  print(X.shape, Y.shape)\n",
        "  return X, Y\n",
        "\n",
        "import random\n",
        "random.seed(42)\n",
        "random.shuffle(words)\n",
        "n1 = int(0.8*len(words))\n",
        "n2 = int(0.9*len(words))\n",
        "\n",
        "Xtr,  Ytr  = build_dataset(words[:n1])     # 80%\n",
        "Xdev, Ydev = build_dataset(words[n1:n2])   # 10%\n",
        "Xte,  Yte  = build_dataset(words[n2:])     # 10%"
      ]
    },
    {
      "cell_type": "code",
      "execution_count": 12,
      "metadata": {},
      "outputs": [],
      "source": [
        "class EmbeddingLayer:\n",
        "    def __init__(self, input_dim, emb_dim):\n",
        "        self.C = torch.randn((input_dim, emb_dim))\n",
        "\n",
        "    def __call__(self, input):\n",
        "        self.out = self.C[input]\n",
        "        return self.out\n",
        "    \n",
        "    def parameters(self):\n",
        "        return [self.C]\n",
        "    \n",
        "class FlattenLayer:\n",
        "    def __init__(self, n_elements):\n",
        "        self.n = n_elements\n",
        "\n",
        "    def __call__(self, input):\n",
        "        dims = len(input.shape)\n",
        "        if dims == 2:\n",
        "            self.out = input.view(input.shape[0], -1)\n",
        "        elif dims == 3:\n",
        "            self.out = input.view(input.shape[0], input.shape[1]//self.n, -1).squeeze(1)\n",
        "        else:\n",
        "            raise Exception(f'A tensor of {dims} dimensions is not accepted by the FlattenLayer')\n",
        "        return self.out\n",
        "    \n",
        "    def parameters(self):\n",
        "        return []\n",
        "    \n",
        "class LinearLayer:\n",
        "    def __init__(self, input_dim, neurons, bias=True):\n",
        "        self.W = torch.randn((input_dim, neurons)) / input_dim**0.5\n",
        "        self.b = torch.zeros((1, neurons)) if bias else None\n",
        "    \n",
        "    def __call__(self, inputs):\n",
        "        self.out = inputs @ self.W\n",
        "        if self.b is not None:\n",
        "            self.out += self.b\n",
        "        return self.out\n",
        "    \n",
        "    def parameters(self):\n",
        "        return [self.W] + ([] if self.b is None else [self.b])\n",
        "    \n",
        "class BatchNormLayer:\n",
        "    def __init__(self, input_dims, momentum=0.1, epsilon=1e-5):\n",
        "        self.momentum = momentum\n",
        "        self.epsilon = epsilon\n",
        "        self.training = True\n",
        "        self.running_mean = torch.zeros((1, input_dims))\n",
        "        self.running_var = torch.ones((1, input_dims))\n",
        "        self.bngain = torch.ones((1, input_dims))\n",
        "        self.bnbias = torch.zeros((1, input_dims))\n",
        "\n",
        "    def __call__(self, inputs):\n",
        "        if self.training:\n",
        "            dims = len(inputs.shape)\n",
        "            if dims == 2:\n",
        "                bmean = inputs.mean(0, keepdim=True)\n",
        "                bvar = inputs.var(0, keepdim=True, unbiased=True)\n",
        "            elif dims == 3:\n",
        "                bmean = inputs.mean((0,1), keepdim=True)\n",
        "                bvar = inputs.var((0,1), keepdim=True, unbiased=True)\n",
        "            else:\n",
        "                raise Exception(f'Inputs of {dims} dimensions are not supported for the BatchNormLayer')\n",
        "        else:\n",
        "            bmean = self.running_mean\n",
        "            bvar = self.running_var\n",
        "\n",
        "        # Updating statistics\n",
        "        if self.training:\n",
        "            with torch.no_grad():\n",
        "                self.running_mean = self.running_mean * (1-self.momentum) + bmean * self.momentum\n",
        "                self.running_var = self.running_var * (1-self.momentum) + bvar * self.momentum\n",
        "\n",
        "        self.out = self.bngain * ((inputs - bmean) / torch.sqrt(bvar + self.epsilon)) + self.bnbias\n",
        "        return self.out\n",
        "    \n",
        "    def parameters(self):\n",
        "        return [self.bngain, self.bnbias]\n",
        "    \n",
        "\n",
        "class Activation:\n",
        "    def __init__(self, act_fn_name):\n",
        "        if act_fn_name == 'tanh':\n",
        "            self.act_fn = torch.tanh\n",
        "        else:\n",
        "            raise Exception('Pass a valid activation function name')\n",
        "    \n",
        "    def __call__(self, inputs):\n",
        "        self.out = self.act_fn(inputs)\n",
        "        return self.out\n",
        "    \n",
        "    def parameters(self):\n",
        "        return []\n",
        "    \n",
        "\n",
        "class Sequential:\n",
        "    def __init__(self, layers):\n",
        "        self.layers = layers\n",
        "        for layer in self.layers:\n",
        "            layer.training = True\n",
        "    \n",
        "    def __call__(self, inputs):\n",
        "        x = inputs\n",
        "        for layer in self.layers:\n",
        "            x = layer(x)\n",
        "            # print(layer.__class__.__name__, x.shape)\n",
        "        return x\n",
        "    \n",
        "    def parameters(self):\n",
        "        return [p for layer in self.layers for p in layer.parameters()]\n",
        "    \n",
        "    def eval(self):\n",
        "        for layer in self.layers:\n",
        "            layer.training = False\n",
        "    \n",
        "    def train(self):\n",
        "        for layer in self.layers:\n",
        "            layer.training = True\n"
      ]
    },
    {
      "cell_type": "code",
      "execution_count": 13,
      "metadata": {},
      "outputs": [],
      "source": [
        "torch.manual_seed(42); # seed rng for reproducibility"
      ]
    },
    {
      "cell_type": "code",
      "execution_count": 17,
      "metadata": {
        "id": "wPy8DhqB8PPz"
      },
      "outputs": [
        {
          "name": "stdout",
          "output_type": "stream",
          "text": [
            "76579\n",
            "      0/ 200000: 3.3634\n",
            "  10000/ 200000: 2.2010\n",
            "  20000/ 200000: 1.7158\n",
            "  30000/ 200000: 1.7934\n",
            "  40000/ 200000: 2.3977\n",
            "  50000/ 200000: 1.8984\n",
            "  60000/ 200000: 1.9226\n",
            "  70000/ 200000: 2.0509\n",
            "  80000/ 200000: 1.4395\n",
            "  90000/ 200000: 2.1200\n",
            " 100000/ 200000: 1.8602\n",
            " 110000/ 200000: 1.7601\n",
            " 120000/ 200000: 2.0392\n",
            " 130000/ 200000: 2.6380\n",
            " 140000/ 200000: 1.8521\n",
            " 150000/ 200000: 1.9176\n",
            " 160000/ 200000: 2.1405\n",
            " 170000/ 200000: 1.9778\n",
            " 180000/ 200000: 1.7679\n",
            " 190000/ 200000: 1.8104\n"
          ]
        }
      ],
      "source": [
        "# Exercise 4: putting it all together!\n",
        "# Train the MLP neural net with your own backward pass\n",
        "\n",
        "# init\n",
        "n_embd = 24 # the dimensionality of the character embedding vectors\n",
        "n_hidden = 128 # the number of neurons in the hidden layer of the MLP\n",
        "\n",
        "model = Sequential([EmbeddingLayer(vocab_size, n_embd),\n",
        "                    FlattenLayer(2), LinearLayer(n_embd * 2, n_hidden, bias=False), BatchNormLayer(n_hidden, 0.01), Activation('tanh'),\n",
        "                    FlattenLayer(2), LinearLayer(n_hidden*2, n_hidden, bias=False), BatchNormLayer(n_hidden, 0.01), Activation('tanh'),\n",
        "                    FlattenLayer(2), LinearLayer(n_hidden*2, n_hidden, bias=False), BatchNormLayer(n_hidden, 0.01), Activation('tanh'),\n",
        "                    LinearLayer(n_hidden, vocab_size)\n",
        "                    ])\n",
        "\n",
        "parameters = model.parameters()\n",
        "print(sum(p.nelement() for p in parameters)) # number of parameters in total\n",
        "for p in parameters:\n",
        "  p.requires_grad = True\n",
        "\n",
        "# same optimization as last time\n",
        "max_steps = 200000\n",
        "batch_size = 32\n",
        "n = batch_size # convenience\n",
        "lossi = []\n",
        "\n",
        "# kick off optimization\n",
        "for i in range(max_steps):\n",
        "\n",
        "  # minibatch construct\n",
        "  ix = torch.randint(0, Xtr.shape[0], (batch_size,))\n",
        "  Xb, Yb = Xtr[ix], Ytr[ix] # batch X,Y\n",
        "\n",
        "  # forward pass\n",
        "  logits = model(Xb)\n",
        "  loss = F.cross_entropy(logits, Yb) # loss function\n",
        "\n",
        "  # backward pass\n",
        "  for p in parameters:\n",
        "    p.grad = None\n",
        "  loss.backward()\n",
        "  # -----------------\n",
        "\n",
        "  # update\n",
        "  lr = 0.1 if i < 100000 else 0.01 # step learning rate decay\n",
        "  for p in parameters:\n",
        "    p.data += -lr * p.grad\n",
        "\n",
        "  # track stats\n",
        "  if i % 10000 == 0: # print every once in a while\n",
        "    print(f'{i:7d}/{max_steps:7d}: {loss.item():.4f}')\n",
        "  lossi.append(loss.log10().item())\n",
        "\n",
        "  # if i >= 100: # TODO: delete early breaking when you're ready to train the full net\n",
        "  #   break"
      ]
    },
    {
      "cell_type": "code",
      "execution_count": 18,
      "metadata": {},
      "outputs": [
        {
          "name": "stdout",
          "output_type": "stream",
          "text": [
            "input torch.Size([32, 8])\n",
            "EmbeddingLayer torch.Size([32, 8, 24])\n",
            "FlattenLayer torch.Size([32, 4, 48])\n",
            "LinearLayer torch.Size([32, 4, 128])\n",
            "BatchNormLayer torch.Size([32, 4, 128])\n",
            "Activation torch.Size([32, 4, 128])\n",
            "FlattenLayer torch.Size([32, 2, 256])\n",
            "LinearLayer torch.Size([32, 2, 128])\n",
            "BatchNormLayer torch.Size([32, 2, 128])\n",
            "Activation torch.Size([32, 2, 128])\n",
            "FlattenLayer torch.Size([32, 256])\n",
            "LinearLayer torch.Size([32, 128])\n",
            "BatchNormLayer torch.Size([32, 128])\n",
            "Activation torch.Size([32, 128])\n",
            "LinearLayer torch.Size([32, 27])\n"
          ]
        }
      ],
      "source": [
        "print('input', Xb.shape)\n",
        "for layer in model.layers:\n",
        "    print(layer.__class__.__name__, layer.out.shape)"
      ]
    },
    {
      "cell_type": "code",
      "execution_count": 19,
      "metadata": {},
      "outputs": [
        {
          "data": {
            "text/plain": [
              "[<matplotlib.lines.Line2D at 0x7f4999a8bbb0>]"
            ]
          },
          "execution_count": 19,
          "metadata": {},
          "output_type": "execute_result"
        },
        {
          "data": {
            "image/png": "[encoded data removed]",
            "text/plain": [
              "<Figure size 640x480 with 1 Axes>"
            ]
          },
          "metadata": {},
          "output_type": "display_data"
        }
      ],
      "source": [
        "plt.plot(torch.tensor(lossi).view(-1, 1000).mean(1))"
      ]
    },
    {
      "cell_type": "code",
      "execution_count": 20,
      "metadata": {
        "id": "6aFnP_Zc8PP0"
      },
      "outputs": [
        {
          "name": "stdout",
          "output_type": "stream",
          "text": [
            "train 1.7854483127593994\n",
            "val 1.9937665462493896\n"
          ]
        }
      ],
      "source": [
        "# evaluate train and val loss\n",
        "model.eval()\n",
        "\n",
        "@torch.no_grad() # this decorator disables gradient tracking\n",
        "def split_loss(split):\n",
        "  x,y = {\n",
        "    'train': (Xtr, Ytr),\n",
        "    'val': (Xdev, Ydev),\n",
        "    'test': (Xte, Yte),\n",
        "  }[split]\n",
        "  logits = model(x)\n",
        "  loss = F.cross_entropy(logits, y)\n",
        "  print(split, loss.item())\n",
        "\n",
        "split_loss('train')\n",
        "split_loss('val')"
      ]
    },
    {
      "cell_type": "code",
      "execution_count": 22,
      "metadata": {
        "id": "xHeQNv3s8PP1"
      },
      "outputs": [
        {
          "name": "stdout",
          "output_type": "stream",
          "text": [
            "charryn.\n",
            "leilany.\n",
            "trego.\n",
            "ashjoun.\n",
            "braylene.\n",
            "nuheela.\n",
            "eppeana.\n",
            "treyvon.\n",
            "zaisha.\n",
            "sanaya.\n",
            "tamsi.\n",
            "ryde.\n",
            "camree.\n",
            "nazelle.\n",
            "marval.\n",
            "takiyah.\n",
            "zerah.\n",
            "drue.\n",
            "ayesha.\n",
            "ahring.\n"
          ]
        }
      ],
      "source": [
        "# sample from the model\n",
        "model.eval()\n",
        "\n",
        "for _ in range(20):\n",
        "\n",
        "    out = []\n",
        "    context = [0] * block_size # initialize with all ...\n",
        "    while True:\n",
        "      # forward pass\n",
        "      logits = model([[context]])\n",
        "      # sample\n",
        "      probs = F.softmax(logits, dim=1)\n",
        "      ix = torch.multinomial(probs, num_samples=1).item()\n",
        "      context = context[1:] + [ix]\n",
        "      out.append(ix)\n",
        "      if ix == 0:\n",
        "        break\n",
        "\n",
        "    print(''.join(itos[i] for i in out))"
      ]
    }
  ],
  "metadata": {
    "colab": {
      "provenance": []
    },
    "kernelspec": {
      "display_name": "Python 3",
      "language": "python",
      "name": "python3"
    },
    "language_info": {
      "codemirror_mode": {
        "name": "ipython",
        "version": 3
      },
      "file_extension": ".py",
      "mimetype": "text/x-python",
      "name": "python",
      "nbconvert_exporter": "python",
      "pygments_lexer": "ipython3",
      "version": "3.10.12"
    }
  },
  "nbformat": 4,
  "nbformat_minor": 0
}
